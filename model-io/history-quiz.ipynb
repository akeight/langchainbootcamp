{
 "cells": [
  {
   "metadata": {
    "ExecuteTime": {
     "end_time": "2025-03-13T23:37:44.668917Z",
     "start_time": "2025-03-13T23:37:43.344910Z"
    }
   },
   "cell_type": "code",
   "source": [
    "from langchain_openai import ChatOpenAI\n",
    "from langchain_core.prompts import (\n",
    "    ChatPromptTemplate,\n",
    "    SystemMessagePromptTemplate,\n",
    "    AIMessagePromptTemplate,\n",
    "    HumanMessagePromptTemplate,\n",
    ")\n",
    "from langchain_core.output_parsers import JsonOutputParser\n",
    "from datetime import datetime\n",
    "from langchain.output_parsers import DatetimeOutputParser\n",
    "import os\n",
    "from dotenv import load_dotenv\n",
    "\n",
    "load_dotenv()\n",
    "api_key = os.getenv(\"OPENAI_API_KEY\")\n",
    "chat = ChatOpenAI()\n",
    "llm = init_chat_model(\"gpt-4o-mini\", model_provider=\"openai\")"
   ],
   "id": "6f6cf106b0e9f103",
   "outputs": [],
   "execution_count": 96
  },
  {
   "metadata": {
    "ExecuteTime": {
     "end_time": "2025-03-13T23:37:47.985861Z",
     "start_time": "2025-03-13T23:37:47.976183Z"
    }
   },
   "cell_type": "code",
   "source": [
    "class HistoryQuiz():\n",
    "\n",
    "    def create_history_question(self,topic):\n",
    "        system_template = \"You are giving a history quiz. I want you to generate a random single history question for me about {topic}. This historical question needs to have a date as the correct answer. Only return the quiz question.\"\n",
    "        system_message_prompt = SystemMessagePromptTemplate.from_template(system_template)\n",
    "\n",
    "        human_template = \"{question_request}\"\n",
    "        human_message_prompt = HumanMessagePromptTemplate.from_template(human_template)\n",
    "\n",
    "        chat_prompt = ChatPromptTemplate.from_messages([system_message_prompt, human_message_prompt])\n",
    "\n",
    "        q = \"Give me a quiz question where the correct answer is a specific date.\"\n",
    "        request = chat_prompt.format_prompt(topic=topic,question_request=q).to_messages()\n",
    "\n",
    "        result = llm.invoke(request)\n",
    "        return result.content\n",
    "\n",
    "    def get_AI_answer(self,question):\n",
    "\n",
    "    #datetime parse\n",
    "       output_parser = DatetimeOutputParser()\n",
    "       json_parser = JsonOutputParser()\n",
    "\n",
    "    #syst template\n",
    "       system_template = \"You answer quiz questions with just a date and parse the date\"\n",
    "       system_message_prompt = SystemMessagePromptTemplate.from_template(system_template)\n",
    "\n",
    "    #human template -- format instructions\n",
    "       human_template = \"\"\"Answer the user's question:\n",
    "       {question}\n",
    "       {format_instructions}\n",
    "       \"\"\"\n",
    "       human_message_prompt = HumanMessagePromptTemplate.from_template(human_template)\n",
    "\n",
    "    #compile ChatPromptTemplate\n",
    "       chat_prompt = ChatPromptTemplate.from_messages([system_message_prompt, human_message_prompt])\n",
    "\n",
    "    # insert question and get_format_instructions\n",
    "       request = chat_prompt.format_prompt(question=question, format_instructions=output_parser.get_format_instructions()).to_messages()\n",
    "\n",
    "    #chatbot result -- format to datetime\n",
    "       result = llm.invoke(request)\n",
    "       correct_datetime = output_parser.parse(result.content)\n",
    "       return correct_datetime\n",
    "\n",
    "    def get_user_answer(self,question):\n",
    "\n",
    "        print(question)\n",
    "        print(\"\\n\")\n",
    "\n",
    "        year = int(input(\"Enter the year: \"))\n",
    "        month = int(input(\"Enter the month (1-12): \"))\n",
    "        day = int(input(\"Enter the day (1-31): \"))\n",
    "        user_datetime = datetime(year, month, day)\n",
    "\n",
    "        return user_datetime\n",
    "\n",
    "    def check_user_answer(self,user_answer,ai_answer):\n",
    "\n",
    "        # print or return the difference between the answers here!\n",
    "        difference = user_answer - ai_answer\n",
    "        formatted_difference = str(difference)\n",
    "        print(\"The difference between the answer and your guess is: \", formatted_difference)\n",
    "        pass"
   ],
   "id": "e6b820fc307dbfac",
   "outputs": [],
   "execution_count": 97
  },
  {
   "metadata": {
    "ExecuteTime": {
     "end_time": "2025-03-13T23:37:52.762747Z",
     "start_time": "2025-03-13T23:37:52.759013Z"
    }
   },
   "cell_type": "code",
   "source": "quiz_bot = HistoryQuiz()",
   "id": "b52fb69f4c386bc4",
   "outputs": [],
   "execution_count": 98
  },
  {
   "metadata": {
    "ExecuteTime": {
     "end_time": "2025-03-13T23:37:54.906546Z",
     "start_time": "2025-03-13T23:37:53.889805Z"
    }
   },
   "cell_type": "code",
   "source": [
    "question = quiz_bot.create_history_question(topic='Rome')\n",
    "question"
   ],
   "id": "de78173c7312a73c",
   "outputs": [
    {
     "data": {
      "text/plain": [
       "'What year did the Roman Empire officially fall, marking the end of ancient Rome’s dominance in the West?'"
      ]
     },
     "execution_count": 99,
     "metadata": {},
     "output_type": "execute_result"
    }
   ],
   "execution_count": 99
  },
  {
   "metadata": {
    "ExecuteTime": {
     "end_time": "2025-03-13T23:37:57.668622Z",
     "start_time": "2025-03-13T23:37:56.954984Z"
    }
   },
   "cell_type": "code",
   "source": "ai_answer = quiz_bot.get_AI_answer(question)",
   "id": "ea759d4aa6a44cad",
   "outputs": [],
   "execution_count": 100
  },
  {
   "metadata": {
    "ExecuteTime": {
     "end_time": "2025-03-13T23:38:02.378959Z",
     "start_time": "2025-03-13T23:38:02.373862Z"
    }
   },
   "cell_type": "code",
   "source": "ai_answer",
   "id": "21b18b4275b5f0c6",
   "outputs": [
    {
     "data": {
      "text/plain": [
       "datetime.datetime(480, 9, 4, 0, 0)"
      ]
     },
     "execution_count": 101,
     "metadata": {},
     "output_type": "execute_result"
    }
   ],
   "execution_count": 101
  },
  {
   "metadata": {
    "ExecuteTime": {
     "end_time": "2025-03-13T23:38:13.413441Z",
     "start_time": "2025-03-13T23:38:11.334023Z"
    }
   },
   "cell_type": "code",
   "source": "user_answer = quiz_bot.get_user_answer(question)",
   "id": "2bfad86d21aaecc",
   "outputs": [
    {
     "name": "stdout",
     "output_type": "stream",
     "text": [
      "What year did the Roman Empire officially fall, marking the end of ancient Rome’s dominance in the West?\n",
      "\n",
      "\n"
     ]
    },
    {
     "ename": "KeyboardInterrupt",
     "evalue": "Interrupted by user",
     "output_type": "error",
     "traceback": [
      "\u001B[31m---------------------------------------------------------------------------\u001B[39m",
      "\u001B[31mKeyboardInterrupt\u001B[39m                         Traceback (most recent call last)",
      "\u001B[36mCell\u001B[39m\u001B[36m \u001B[39m\u001B[32mIn[102]\u001B[39m\u001B[32m, line 1\u001B[39m\n\u001B[32m----> \u001B[39m\u001B[32m1\u001B[39m user_answer = \u001B[43mquiz_bot\u001B[49m\u001B[43m.\u001B[49m\u001B[43mget_user_answer\u001B[49m\u001B[43m(\u001B[49m\u001B[43mquestion\u001B[49m\u001B[43m)\u001B[49m\n",
      "\u001B[36mCell\u001B[39m\u001B[36m \u001B[39m\u001B[32mIn[97]\u001B[39m\u001B[32m, line 51\u001B[39m, in \u001B[36mHistoryQuiz.get_user_answer\u001B[39m\u001B[34m(self, question)\u001B[39m\n\u001B[32m     48\u001B[39m \u001B[38;5;28mprint\u001B[39m(question)\n\u001B[32m     49\u001B[39m \u001B[38;5;28mprint\u001B[39m(\u001B[33m\"\u001B[39m\u001B[38;5;130;01m\\n\u001B[39;00m\u001B[33m\"\u001B[39m)\n\u001B[32m---> \u001B[39m\u001B[32m51\u001B[39m year = \u001B[38;5;28mint\u001B[39m(\u001B[38;5;28;43minput\u001B[39;49m\u001B[43m(\u001B[49m\u001B[33;43m\"\u001B[39;49m\u001B[33;43mEnter the year: \u001B[39;49m\u001B[33;43m\"\u001B[39;49m\u001B[43m)\u001B[49m)\n\u001B[32m     52\u001B[39m month = \u001B[38;5;28mint\u001B[39m(\u001B[38;5;28minput\u001B[39m(\u001B[33m\"\u001B[39m\u001B[33mEnter the month (1-12): \u001B[39m\u001B[33m\"\u001B[39m))\n\u001B[32m     53\u001B[39m day = \u001B[38;5;28mint\u001B[39m(\u001B[38;5;28minput\u001B[39m(\u001B[33m\"\u001B[39m\u001B[33mEnter the day (1-31): \u001B[39m\u001B[33m\"\u001B[39m))\n",
      "\u001B[36mFile \u001B[39m\u001B[32m~\\AppData\\Roaming\\Python\\Python313\\site-packages\\ipykernel\\kernelbase.py:1282\u001B[39m, in \u001B[36mKernel.raw_input\u001B[39m\u001B[34m(self, prompt)\u001B[39m\n\u001B[32m   1280\u001B[39m     msg = \u001B[33m\"\u001B[39m\u001B[33mraw_input was called, but this frontend does not support input requests.\u001B[39m\u001B[33m\"\u001B[39m\n\u001B[32m   1281\u001B[39m     \u001B[38;5;28;01mraise\u001B[39;00m StdinNotImplementedError(msg)\n\u001B[32m-> \u001B[39m\u001B[32m1282\u001B[39m \u001B[38;5;28;01mreturn\u001B[39;00m \u001B[38;5;28;43mself\u001B[39;49m\u001B[43m.\u001B[49m\u001B[43m_input_request\u001B[49m\u001B[43m(\u001B[49m\n\u001B[32m   1283\u001B[39m \u001B[43m    \u001B[49m\u001B[38;5;28;43mstr\u001B[39;49m\u001B[43m(\u001B[49m\u001B[43mprompt\u001B[49m\u001B[43m)\u001B[49m\u001B[43m,\u001B[49m\n\u001B[32m   1284\u001B[39m \u001B[43m    \u001B[49m\u001B[38;5;28;43mself\u001B[39;49m\u001B[43m.\u001B[49m\u001B[43m_parent_ident\u001B[49m\u001B[43m[\u001B[49m\u001B[33;43m\"\u001B[39;49m\u001B[33;43mshell\u001B[39;49m\u001B[33;43m\"\u001B[39;49m\u001B[43m]\u001B[49m\u001B[43m,\u001B[49m\n\u001B[32m   1285\u001B[39m \u001B[43m    \u001B[49m\u001B[38;5;28;43mself\u001B[39;49m\u001B[43m.\u001B[49m\u001B[43mget_parent\u001B[49m\u001B[43m(\u001B[49m\u001B[33;43m\"\u001B[39;49m\u001B[33;43mshell\u001B[39;49m\u001B[33;43m\"\u001B[39;49m\u001B[43m)\u001B[49m\u001B[43m,\u001B[49m\n\u001B[32m   1286\u001B[39m \u001B[43m    \u001B[49m\u001B[43mpassword\u001B[49m\u001B[43m=\u001B[49m\u001B[38;5;28;43;01mFalse\u001B[39;49;00m\u001B[43m,\u001B[49m\n\u001B[32m   1287\u001B[39m \u001B[43m\u001B[49m\u001B[43m)\u001B[49m\n",
      "\u001B[36mFile \u001B[39m\u001B[32m~\\AppData\\Roaming\\Python\\Python313\\site-packages\\ipykernel\\kernelbase.py:1325\u001B[39m, in \u001B[36mKernel._input_request\u001B[39m\u001B[34m(self, prompt, ident, parent, password)\u001B[39m\n\u001B[32m   1322\u001B[39m \u001B[38;5;28;01mexcept\u001B[39;00m \u001B[38;5;167;01mKeyboardInterrupt\u001B[39;00m:\n\u001B[32m   1323\u001B[39m     \u001B[38;5;66;03m# re-raise KeyboardInterrupt, to truncate traceback\u001B[39;00m\n\u001B[32m   1324\u001B[39m     msg = \u001B[33m\"\u001B[39m\u001B[33mInterrupted by user\u001B[39m\u001B[33m\"\u001B[39m\n\u001B[32m-> \u001B[39m\u001B[32m1325\u001B[39m     \u001B[38;5;28;01mraise\u001B[39;00m \u001B[38;5;167;01mKeyboardInterrupt\u001B[39;00m(msg) \u001B[38;5;28;01mfrom\u001B[39;00m\u001B[38;5;250m \u001B[39m\u001B[38;5;28;01mNone\u001B[39;00m\n\u001B[32m   1326\u001B[39m \u001B[38;5;28;01mexcept\u001B[39;00m \u001B[38;5;167;01mException\u001B[39;00m:\n\u001B[32m   1327\u001B[39m     \u001B[38;5;28mself\u001B[39m.log.warning(\u001B[33m\"\u001B[39m\u001B[33mInvalid Message:\u001B[39m\u001B[33m\"\u001B[39m, exc_info=\u001B[38;5;28;01mTrue\u001B[39;00m)\n",
      "\u001B[31mKeyboardInterrupt\u001B[39m: Interrupted by user"
     ]
    }
   ],
   "execution_count": 102
  },
  {
   "metadata": {
    "ExecuteTime": {
     "end_time": "2025-03-13T23:38:17.728742Z",
     "start_time": "2025-03-13T23:38:17.722938Z"
    }
   },
   "cell_type": "code",
   "source": "user_answer",
   "id": "547c7732656ba9a5",
   "outputs": [
    {
     "data": {
      "text/plain": [
       "datetime.datetime(466, 6, 6, 0, 0)"
      ]
     },
     "execution_count": 103,
     "metadata": {},
     "output_type": "execute_result"
    }
   ],
   "execution_count": 103
  },
  {
   "metadata": {
    "ExecuteTime": {
     "end_time": "2025-03-13T23:38:19.235321Z",
     "start_time": "2025-03-13T23:38:19.231352Z"
    }
   },
   "cell_type": "code",
   "source": "quiz_bot.check_user_answer(user_answer,ai_answer)",
   "id": "7b09fa66f1aefa22",
   "outputs": [
    {
     "name": "stdout",
     "output_type": "stream",
     "text": [
      "The difference between the answer and your guess is:  -5204 days, 0:00:00\n"
     ]
    }
   ],
   "execution_count": 104
  }
 ],
 "metadata": {
  "kernelspec": {
   "display_name": "Python 3",
   "language": "python",
   "name": "python3"
  },
  "language_info": {
   "codemirror_mode": {
    "name": "ipython",
    "version": 2
   },
   "file_extension": ".py",
   "mimetype": "text/x-python",
   "name": "python",
   "nbconvert_exporter": "python",
   "pygments_lexer": "ipython2",
   "version": "2.7.6"
  }
 },
 "nbformat": 4,
 "nbformat_minor": 5
}
