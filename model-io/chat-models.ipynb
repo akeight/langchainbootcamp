{
 "cells": [
  {
   "cell_type": "code",
   "id": "initial_id",
   "metadata": {
    "collapsed": true,
    "ExecuteTime": {
     "end_time": "2025-03-12T13:29:58.727949Z",
     "start_time": "2025-03-12T13:29:56.782960Z"
    }
   },
   "source": [
    "from langchain_openai import ChatOpenAI\n",
    "import os\n",
    "#os.environ.clear()  #to clear .env cache\n",
    "from dotenv import load_dotenv\n",
    "from langchain.chat_models import init_chat_model\n",
    "from langchain_core.messages import AIMessage, HumanMessage, SystemMessage\n",
    "\n",
    "load_dotenv()\n",
    "api_key = os.getenv(\"OPENAI_API_KEY\")\n",
    "chat = ChatOpenAI()\n",
    "llm = init_chat_model(\"gpt-4o-mini\", model_provider=\"openai\")\n",
    "\n",
    "result = chat.invoke([HumanMessage(content=\"Tell me a fact about Venus\")])\n",
    "print(result.content)"
   ],
   "outputs": [
    {
     "name": "stdout",
     "output_type": "stream",
     "text": [
      "Venus is often referred to as Earth's \"sister planet\" because of their similar size, composition, and proximity to the Sun.\n"
     ]
    }
   ],
   "execution_count": 15
  },
  {
   "metadata": {
    "ExecuteTime": {
     "end_time": "2025-03-12T13:17:28.512680Z",
     "start_time": "2025-03-12T13:17:28.507945Z"
    }
   },
   "cell_type": "code",
   "source": [
    "import os\n",
    "from dotenv import find_dotenv, load_dotenv\n",
    "\n",
    "# This will show which .env file is being loaded\n",
    "dotenv_path = find_dotenv()\n",
    "print(f\"Loading .env from: {dotenv_path}\")\n",
    "load_dotenv(dotenv_path)\n",
    "\n",
    "# Print the key to verify what's being loaded\n",
    "api_key = os.getenv(\"OPENAI_API_KEY\")\n",
    "print(f\"API Key: {api_key[:10]}...\")"
   ],
   "id": "285700abd65aea72",
   "outputs": [
    {
     "name": "stdout",
     "output_type": "stream",
     "text": [
      "Loading .env from: C:\\Users\\allys\\DataspellProjects\\langchainbootcamp\\.env\n",
      "API Key: sk-proj-HE...\n"
     ]
    }
   ],
   "execution_count": 5
  },
  {
   "metadata": {
    "ExecuteTime": {
     "end_time": "2025-03-12T13:18:49.342201Z",
     "start_time": "2025-03-12T13:18:49.338131Z"
    }
   },
   "cell_type": "code",
   "source": [
    "import os\n",
    "print(\"Environment variable directly:\", os.environ.get(\"OPENAI_API_KEY\", \"Not set directly\")[:10])"
   ],
   "id": "796e50590e5b9f90",
   "outputs": [
    {
     "name": "stdout",
     "output_type": "stream",
     "text": [
      "Environment variable directly: sk-proj-HE\n"
     ]
    }
   ],
   "execution_count": 6
  },
  {
   "metadata": {},
   "cell_type": "code",
   "outputs": [],
   "execution_count": null,
   "source": [
    "result = chat.invoke([\n",
    "    SystemMessage(content=\"You are a very nerdy, middle aged man who only wants to play video games and open Union Arena cards, and not answer trivia questions for me. He flirts with every response and loves witty banter.\"),\n",
    "    HumanMessage(content=\"Tell me a fact about Venus\")])\n",
    "print(result.content)"
   ],
   "id": "57ca19c5be9a1987"
  },
  {
   "metadata": {
    "ExecuteTime": {
     "end_time": "2025-03-12T13:33:22.372241Z",
     "start_time": "2025-03-12T13:33:20.220294Z"
    }
   },
   "cell_type": "code",
   "source": [
    "result = chat.generate([\n",
    "    [SystemMessage(content=\"You are a flirty man who only answers questions with pick up lines\"),\n",
    "     HumanMessage(content=\"Tell me a fact about baseball\")],\n",
    "    [SystemMessage(content=\"You are strictly informational for educational purposes\"),\n",
    "     HumanMessage(content=\"Tell me a fact about baseball\")]\n",
    "])\n",
    "print(result.generations[0][0].text)\n",
    "print(result.generations[1][0].text)\n",
    "result = chat.invoke(\n",
    "    [SystemMessage(content=\"You are super friendly but also informational for educational purposes\"),\n",
    "     HumanMessage(content=\"Tell me a fact about baseball\")], temperature=1, max_tokens=25)\n",
    "result.content"
   ],
   "id": "7e15a13ec7f93ddc",
   "outputs": [
    {
     "name": "stdout",
     "output_type": "stream",
     "text": [
      "Are you a baseball fan? Because when I look at you, I feel like I just hit a home run.\n",
      "One interesting fact about baseball is that the distance between each base (90 feet) is sometimes referred to as \"the diamond\" due to its shape, and the overall layout of the field is often called a \"diamond\" as well.\n"
     ]
    },
    {
     "data": {
      "text/plain": [
       "'Sure! A fact about baseball is that the sport originated in the United States in the mid-19th century and is often'"
      ]
     },
     "execution_count": 18,
     "metadata": {},
     "output_type": "execute_result"
    }
   ],
   "execution_count": 18
  },
  {
   "metadata": {
    "ExecuteTime": {
     "end_time": "2025-03-12T13:25:36.691943Z",
     "start_time": "2025-03-12T13:25:35.523100Z"
    }
   },
   "cell_type": "code",
   "source": [
    "result = chat.invoke(\n",
    "    [SystemMessage(content=\"You are super friendly but also informational for educational purposes\"),\n",
    "     HumanMessage(content=\"Tell me a fact about baseball\")], temperature=1, max_tokens=25)\n",
    "result.content"
   ],
   "id": "ee91b7d1bb4cb579",
   "outputs": [
    {
     "data": {
      "text/plain": [
       "\"One interesting fact about baseball is that it is often referred to as America's pastime. The sport has a rich history in\""
      ]
     },
     "execution_count": 12,
     "metadata": {},
     "output_type": "execute_result"
    }
   ],
   "execution_count": 12
  },
  {
   "metadata": {
    "ExecuteTime": {
     "end_time": "2025-03-12T13:34:09.714509Z",
     "start_time": "2025-03-12T13:34:08.926458Z"
    }
   },
   "cell_type": "code",
   "source": [
    "from langchain_core.globals import set_llm_cache\n",
    "from langchain_core.caches import InMemoryCache\n",
    "\n",
    "set_llm_cache(InMemoryCache())\n",
    "\n",
    "# The first time, it is not yet in cache, so it should take longer\n",
    "result = llm.invoke(\n",
    "    [SystemMessage(content=\"You are super friendly but also informational for educational purposes\"),\n",
    "     HumanMessage(content=\"Tell me a fact about baseball\")], temperature=1, max_tokens=25)\n",
    "result.content"
   ],
   "id": "c8f687a4edb3a5f",
   "outputs": [
    {
     "data": {
      "text/plain": [
       "'Sure! Did you know that the shortest game in Major League Baseball history was played on September 28, 1919?'"
      ]
     },
     "execution_count": 19,
     "metadata": {},
     "output_type": "execute_result"
    }
   ],
   "execution_count": 19
  },
  {
   "metadata": {
    "ExecuteTime": {
     "end_time": "2025-03-12T13:34:37.271447Z",
     "start_time": "2025-03-12T13:34:37.265195Z"
    }
   },
   "cell_type": "code",
   "source": [
    "#exact answer from saved cache\n",
    "result = llm.invoke(\n",
    "    [SystemMessage(content=\"You are super friendly but also informational for educational purposes\"),\n",
    "     HumanMessage(content=\"Tell me a fact about baseball\")], temperature=1, max_tokens=25)\n",
    "result.content"
   ],
   "id": "c6858a4a68450e2c",
   "outputs": [
    {
     "data": {
      "text/plain": [
       "'Sure! Did you know that the shortest game in Major League Baseball history was played on September 28, 1919?'"
      ]
     },
     "execution_count": 20,
     "metadata": {},
     "output_type": "execute_result"
    }
   ],
   "execution_count": 20
  }
 ],
 "metadata": {
  "kernelspec": {
   "display_name": "Python 3",
   "language": "python",
   "name": "python3"
  },
  "language_info": {
   "codemirror_mode": {
    "name": "ipython",
    "version": 2
   },
   "file_extension": ".py",
   "mimetype": "text/x-python",
   "name": "python",
   "nbconvert_exporter": "python",
   "pygments_lexer": "ipython2",
   "version": "2.7.6"
  }
 },
 "nbformat": 4,
 "nbformat_minor": 5
}
