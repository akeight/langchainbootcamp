{
 "cells": [
  {
   "cell_type": "code",
   "id": "initial_id",
   "metadata": {
    "collapsed": true
   },
   "source": [
    "from langchain_core.output_parsers import CommaSeparatedListOutputParser\n",
    "from langchain_openai import ChatOpenAI\n",
    "import os\n",
    "#os.environ.clear()  #to clear .env cache\n",
    "from dotenv import load_dotenv\n",
    "from langchain.chat_models import init_chat_model\n",
    "from langchain.prompts import PromptTemplate, ChatPromptTemplate, SystemMessagePromptTemplate, HumanMessagePromptTemplate, AIMessagePromptTemplate\n",
    "\n",
    "load_dotenv()\n",
    "api_key = os.getenv(\"OPENAI_API_KEY\")\n",
    "chat = ChatOpenAI()\n",
    "llm = init_chat_model(\"gpt-4o-mini\", model_provider=\"openai\")"
   ],
   "outputs": [],
   "execution_count": null
  },
  {
   "metadata": {},
   "cell_type": "code",
   "source": [
    "#step 1 - import parser, make instance\n",
    "from langchain.output_parsers import CommaSeparatedListOutputParser\n",
    "\n",
    "output_parser = CommaSeparatedListOutputParser()"
   ],
   "id": "b0d957c2663d3c3e",
   "outputs": [],
   "execution_count": null
  },
  {
   "metadata": {},
   "cell_type": "code",
   "source": [
    "#step 2 -format instructions\n",
    "\n",
    "# code to view what format instructions are\n",
    "output_parser.get_format_instructions()\n",
    "\n",
    "reply = \"red, blue, green\"\n",
    "output_parser.parse(reply)"
   ],
   "id": "af29550114f4ffe5",
   "outputs": [],
   "execution_count": null
  },
  {
   "metadata": {},
   "cell_type": "code",
   "source": [
    "human_template = \"{request}\\n{format_instructions}\"\n",
    "human_prompt = HumanMessagePromptTemplate.from_template(human_template)"
   ],
   "id": "f158ff1cf90dc502",
   "outputs": [],
   "execution_count": null
  },
  {
   "metadata": {
    "ExecuteTime": {
     "end_time": "2025-03-13T16:51:37.590114Z",
     "start_time": "2025-03-13T16:51:37.587069Z"
    }
   },
   "cell_type": "code",
   "source": "chat_prompt = ChatPromptTemplate.from_messages([human_prompt])\n",
   "id": "d416d2aaaaaa5913",
   "outputs": [],
   "execution_count": 7
  },
  {
   "metadata": {
    "ExecuteTime": {
     "end_time": "2025-03-13T16:51:38.566170Z",
     "start_time": "2025-03-13T16:51:38.561824Z"
    }
   },
   "cell_type": "code",
   "source": "model_request = chat_prompt.format_prompt(request=\"give me 5 characteristics of Pikachu\", format_instructions=output_parser.get_format_instructions()).to_messages()",
   "id": "2d81b285e1e6c445",
   "outputs": [],
   "execution_count": 8
  },
  {
   "metadata": {
    "ExecuteTime": {
     "end_time": "2025-03-13T17:36:47.405007Z",
     "start_time": "2025-03-13T17:36:46.094764Z"
    }
   },
   "cell_type": "code",
   "source": [
    "result = llm.invoke(model_request)\n",
    "\n",
    "#parse into a list\n",
    "output_parser.parse(result.content)"
   ],
   "id": "5ecc1d9db59f690c",
   "outputs": [
    {
     "data": {
      "text/plain": [
       "['Electric-type', 'small', 'yellow', 'cute', 'can generate electricity']"
      ]
     },
     "execution_count": 11,
     "metadata": {},
     "output_type": "execute_result"
    }
   ],
   "execution_count": 11
  },
  {
   "metadata": {
    "ExecuteTime": {
     "end_time": "2025-03-13T17:38:56.340060Z",
     "start_time": "2025-03-13T17:38:56.336113Z"
    }
   },
   "cell_type": "code",
   "source": [
    "#show content\n",
    "result.content"
   ],
   "id": "500ad4076fff450",
   "outputs": [
    {
     "data": {
      "text/plain": [
       "'Electric-type, small, yellow, cute, can generate electricity'"
      ]
     },
     "execution_count": 13,
     "metadata": {},
     "output_type": "execute_result"
    }
   ],
   "execution_count": 13
  },
  {
   "metadata": {
    "ExecuteTime": {
     "end_time": "2025-03-13T17:54:23.195061Z",
     "start_time": "2025-03-13T17:54:23.188726Z"
    }
   },
   "cell_type": "code",
   "source": [
    "#SECTION 2\n",
    "\n",
    "from langchain.output_parsers import DatetimeOutputParser\n",
    "\n",
    "output_parser = DatetimeOutputParser()\n",
    "#get formatting info\n",
    "output_parser.get_format_instructions()"
   ],
   "id": "143b6d4c9526af64",
   "outputs": [
    {
     "data": {
      "text/plain": [
       "\"Write a datetime string that matches the following pattern: '%Y-%m-%dT%H:%M:%S.%fZ'.\\n\\nExamples: 1148-03-21T16:20:30.479424Z, 1632-06-07T16:22:00.704193Z, 0371-04-15T14:06:07.414087Z\\n\\nReturn ONLY this string, no other words!\""
      ]
     },
     "execution_count": 14,
     "metadata": {},
     "output_type": "execute_result"
    }
   ],
   "execution_count": 14
  },
  {
   "metadata": {
    "ExecuteTime": {
     "end_time": "2025-03-13T18:30:38.209130Z",
     "start_time": "2025-03-13T18:30:38.204225Z"
    }
   },
   "cell_type": "code",
   "source": [
    "#create template text\n",
    "template_text = \"{request}\\n{format_instructions}\"\n",
    "#create a human prompt\n",
    "human_prompt = HumanMessagePromptTemplate.from_template(template_text)\n",
    "#create a system prompt\n",
    "system_prompt = SystemMessagePromptTemplate.from_template(\"You always reply to questions only in datetime patterns.\")"
   ],
   "id": "8f287f036c34757a",
   "outputs": [],
   "execution_count": 20
  },
  {
   "metadata": {
    "ExecuteTime": {
     "end_time": "2025-03-13T18:31:24.634194Z",
     "start_time": "2025-03-13T18:31:24.628323Z"
    }
   },
   "cell_type": "code",
   "source": [
    "#create a chat prompt\n",
    "chat_prompt = ChatPromptTemplate.from_messages([human_prompt, system_prompt])"
   ],
   "id": "cee87c93a5b5c4e9",
   "outputs": [],
   "execution_count": 22
  },
  {
   "metadata": {
    "ExecuteTime": {
     "end_time": "2025-03-13T18:31:27.194313Z",
     "start_time": "2025-03-13T18:31:27.190161Z"
    }
   },
   "cell_type": "code",
   "source": [
    "#format\n",
    "model_request = chat_prompt.format_prompt(request=\"What date was the 13th amendment ratified in the US?\", format_instructions=output_parser.get_format_instructions()).to_messages()"
   ],
   "id": "c7dc82e495bbff53",
   "outputs": [],
   "execution_count": 23
  },
  {
   "metadata": {
    "ExecuteTime": {
     "end_time": "2025-03-13T18:31:31.792065Z",
     "start_time": "2025-03-13T18:31:30.678145Z"
    }
   },
   "cell_type": "code",
   "source": [
    "result = llm.invoke(model_request, temperature=0)\n",
    "\n",
    "result.content"
   ],
   "id": "56d652ffc5849c0d",
   "outputs": [
    {
     "data": {
      "text/plain": [
       "'1865-12-06T00:00:00.000000Z'"
      ]
     },
     "execution_count": 24,
     "metadata": {},
     "output_type": "execute_result"
    }
   ],
   "execution_count": 24
  },
  {
   "metadata": {
    "ExecuteTime": {
     "end_time": "2025-03-13T18:31:33.721433Z",
     "start_time": "2025-03-13T18:31:33.715532Z"
    }
   },
   "cell_type": "code",
   "source": "output_parser.parse(result.content)",
   "id": "c8c6603636884a85",
   "outputs": [
    {
     "data": {
      "text/plain": [
       "datetime.datetime(1865, 12, 6, 0, 0)"
      ]
     },
     "execution_count": 25,
     "metadata": {},
     "output_type": "execute_result"
    }
   ],
   "execution_count": 25
  },
  {
   "metadata": {},
   "cell_type": "code",
   "outputs": [],
   "execution_count": null,
   "source": [
    "# *** if results are not formatted in only datetime format, send back to model with instructions to fix it ***\n",
    "\n",
    "#from langchain.output_parsers import OutputFixingParser\n",
    "#incorrect_format = result.content\n",
    "\n",
    "#new_parser = OutputFixingParser.from_llm(parser=output_parser, llm= llm)\n",
    "\n",
    "#new_parser.parse(incorrect_format)"
   ],
   "id": "fa6c21b3f9b6a48"
  },
  {
   "metadata": {
    "ExecuteTime": {
     "end_time": "2025-03-13T19:17:27.102807Z",
     "start_time": "2025-03-13T19:17:27.090266Z"
    }
   },
   "cell_type": "code",
   "source": [
    "# SECTION 3\n",
    "# pip install pydantic\n",
    "\n",
    "from langchain.output_parsers import PydanticOutputParser\n",
    "from pydantic import BaseModel, Field\n",
    "\n",
    "#create a base class\n",
    "class Scientist(BaseModel):\n",
    "\n",
    "    name: str = Field(description=\"Name of Scientist\")\n",
    "    discoveries: list = Field(description=\"List of discoveries\")"
   ],
   "id": "909d2bdf69c0f8cb",
   "outputs": [],
   "execution_count": 26
  },
  {
   "metadata": {
    "ExecuteTime": {
     "end_time": "2025-03-13T19:17:31.249866Z",
     "start_time": "2025-03-13T19:17:31.245994Z"
    }
   },
   "cell_type": "code",
   "source": "parser = PydanticOutputParser(pydantic_object=Scientist)",
   "id": "900ab45d70790b0",
   "outputs": [],
   "execution_count": 27
  },
  {
   "metadata": {
    "ExecuteTime": {
     "end_time": "2025-03-13T19:17:33.723272Z",
     "start_time": "2025-03-13T19:17:33.717215Z"
    }
   },
   "cell_type": "code",
   "source": [
    "#check format instructions\n",
    "print(parser.get_format_instructions())"
   ],
   "id": "c574bc9177aecae6",
   "outputs": [
    {
     "name": "stdout",
     "output_type": "stream",
     "text": [
      "The output should be formatted as a JSON instance that conforms to the JSON schema below.\n",
      "\n",
      "As an example, for the schema {\"properties\": {\"foo\": {\"title\": \"Foo\", \"description\": \"a list of strings\", \"type\": \"array\", \"items\": {\"type\": \"string\"}}}, \"required\": [\"foo\"]}\n",
      "the object {\"foo\": [\"bar\", \"baz\"]} is a well-formatted instance of the schema. The object {\"properties\": {\"foo\": [\"bar\", \"baz\"]}} is not well-formatted.\n",
      "\n",
      "Here is the output schema:\n",
      "```\n",
      "{\"properties\": {\"name\": {\"description\": \"Name of Scientist\", \"title\": \"Name\", \"type\": \"string\"}, \"discoveries\": {\"description\": \"List of discoveries\", \"items\": {}, \"title\": \"Discoveries\", \"type\": \"array\"}}, \"required\": [\"name\", \"discoveries\"]}\n",
      "```\n"
     ]
    }
   ],
   "execution_count": 28
  },
  {
   "metadata": {
    "ExecuteTime": {
     "end_time": "2025-03-13T19:22:22.342106Z",
     "start_time": "2025-03-13T19:22:22.338159Z"
    }
   },
   "cell_type": "code",
   "source": [
    "#prompt templates\n",
    "human_prompt = HumanMessagePromptTemplate.from_template(\"{request}\\n{format_instructions}\")\n",
    "\n",
    "chat_prompt = ChatPromptTemplate.from_messages([human_prompt])"
   ],
   "id": "10d414b16f65b9b4",
   "outputs": [],
   "execution_count": 29
  },
  {
   "metadata": {
    "ExecuteTime": {
     "end_time": "2025-03-13T19:24:25.482844Z",
     "start_time": "2025-03-13T19:24:25.476367Z"
    }
   },
   "cell_type": "code",
   "source": [
    "#build out request\n",
    "request =chat_prompt.format_prompt(request=\"Tell me about a famous scientist\",\n",
    "                                   format_instructions=parser.get_format_instructions()).to_messages()"
   ],
   "id": "ea0f1e28726da159",
   "outputs": [],
   "execution_count": 30
  },
  {
   "metadata": {
    "ExecuteTime": {
     "end_time": "2025-03-13T19:25:48.838909Z",
     "start_time": "2025-03-13T19:25:47.494104Z"
    }
   },
   "cell_type": "code",
   "source": [
    "result = llm.invoke(request, temperature=0)\n",
    "type(parser.parse(result.content))"
   ],
   "id": "9b1990c15ead9633",
   "outputs": [
    {
     "data": {
      "text/plain": [
       "__main__.Scientist"
      ]
     },
     "execution_count": 33,
     "metadata": {},
     "output_type": "execute_result"
    }
   ],
   "execution_count": 33
  }
 ],
 "metadata": {
  "kernelspec": {
   "display_name": "Python 3",
   "language": "python",
   "name": "python3"
  },
  "language_info": {
   "codemirror_mode": {
    "name": "ipython",
    "version": 2
   },
   "file_extension": ".py",
   "mimetype": "text/x-python",
   "name": "python",
   "nbconvert_exporter": "python",
   "pygments_lexer": "ipython2",
   "version": "2.7.6"
  }
 },
 "nbformat": 4,
 "nbformat_minor": 5
}
