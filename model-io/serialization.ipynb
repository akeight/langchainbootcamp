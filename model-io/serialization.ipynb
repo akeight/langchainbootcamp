{
 "cells": [
  {
   "cell_type": "code",
   "id": "initial_id",
   "metadata": {
    "collapsed": true,
    "ExecuteTime": {
     "end_time": "2025-03-13T19:34:57.981283Z",
     "start_time": "2025-03-13T19:34:56.615249Z"
    }
   },
   "source": [
    "from langchain import PromptTemplate\n",
    "\n",
    "template = \"Tell me a fact about {planet}\"\n",
    "\n",
    "prompt = PromptTemplate(template=template,input_variables=[\"planet\"])"
   ],
   "outputs": [
    {
     "data": {
      "text/plain": [
       "PromptTemplate(input_variables=['planet'], input_types={}, partial_variables={}, template='Tell me a fact about {planet}')"
      ]
     },
     "execution_count": 1,
     "metadata": {},
     "output_type": "execute_result"
    }
   ],
   "execution_count": 1
  },
  {
   "metadata": {
    "ExecuteTime": {
     "end_time": "2025-03-13T19:35:31.517739Z",
     "start_time": "2025-03-13T19:35:31.512459Z"
    }
   },
   "cell_type": "code",
   "source": [
    "#to save a prompt\n",
    "prompt.save(\"myprompt.json\")"
   ],
   "id": "d9f34b1f458fd655",
   "outputs": [],
   "execution_count": 2
  },
  {
   "metadata": {
    "ExecuteTime": {
     "end_time": "2025-03-13T19:37:24.204244Z",
     "start_time": "2025-03-13T19:37:24.195004Z"
    }
   },
   "cell_type": "code",
   "source": [
    "#to load a prompt from another person/computer\n",
    "\n",
    "from langchain.prompts import load_prompt\n",
    "\n",
    "loaded_prompt = load_prompt(\"myprompt.json\")"
   ],
   "id": "b8fec0399191c225",
   "outputs": [],
   "execution_count": 3
  },
  {
   "metadata": {
    "ExecuteTime": {
     "end_time": "2025-03-13T19:37:25.481113Z",
     "start_time": "2025-03-13T19:37:25.476211Z"
    }
   },
   "cell_type": "code",
   "source": "loaded_prompt",
   "id": "9b0dda154118b209",
   "outputs": [
    {
     "data": {
      "text/plain": [
       "PromptTemplate(input_variables=['planet'], input_types={}, partial_variables={}, template='Tell me a fact about {planet}')"
      ]
     },
     "execution_count": 4,
     "metadata": {},
     "output_type": "execute_result"
    }
   ],
   "execution_count": 4
  }
 ],
 "metadata": {
  "kernelspec": {
   "display_name": "Python 3",
   "language": "python",
   "name": "python3"
  },
  "language_info": {
   "codemirror_mode": {
    "name": "ipython",
    "version": 2
   },
   "file_extension": ".py",
   "mimetype": "text/x-python",
   "name": "python",
   "nbconvert_exporter": "python",
   "pygments_lexer": "ipython2",
   "version": "2.7.6"
  }
 },
 "nbformat": 4,
 "nbformat_minor": 5
}
