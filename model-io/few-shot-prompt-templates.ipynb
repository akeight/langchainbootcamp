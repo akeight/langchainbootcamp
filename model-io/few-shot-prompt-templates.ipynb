{
 "cells": [
  {
   "cell_type": "code",
   "execution_count": null,
   "id": "initial_id",
   "metadata": {
    "collapsed": true
   },
   "outputs": [],
   "source": [
    "from langchain_openai import ChatOpenAI\n",
    "import os\n",
    "#os.environ.clear()  #to clear .env cache\n",
    "from dotenv import load_dotenv\n",
    "from langchain.chat_models import init_chat_model\n",
    "from langchain.prompts.chat import ChatPromptTemplate, SystemMessagePromptTemplate, HumanMessagePromptTemplate, AIMessagePromptTemplate\n",
    "\n",
    "load_dotenv()\n",
    "api_key = os.getenv(\"OPENAI_API_KEY\")\n",
    "chat = ChatOpenAI()\n",
    "llm = init_chat_model(\"gpt-4o-mini\", model_provider=\"openai\")"
   ]
  },
  {
   "metadata": {},
   "cell_type": "code",
   "outputs": [],
   "execution_count": null,
   "source": [
    "#AI Bot legal text\n",
    "system_template = \"You are a helpful legal assistant that translates complex legal terms into simple, plain and understandable terms.\"\n",
    "\n",
    "system_message_prompt = SystemMessagePromptTemplate.from_template(system_template)"
   ],
   "id": "cbdf73a7ff3dd866"
  },
  {
   "metadata": {},
   "cell_type": "code",
   "outputs": [],
   "execution_count": null,
   "source": [
    "#Few shot examples\n",
    "#Input human\n",
    "#Output AI\n",
    "legal_text = #complicated legal mumbo jumbo\n",
    "example_input_one = HumanMessagePromptTemplate.from_template(legal_text)\n",
    "\n",
    "plain_text_output = #something simplified\n",
    "example_output_one = AIMessagePromptTemplate.from_template(example_output_one)\n",
    "\n",
    "#make as many pairs as needed"
   ],
   "id": "1df8ddbb385f179b"
  },
  {
   "metadata": {},
   "cell_type": "code",
   "outputs": [],
   "execution_count": null,
   "source": [
    "human_template = \"{legal_text}\"\n",
    "human_message_prompt = HumanMessagePromptTemplate.from_template(human_template)"
   ],
   "id": "cbd9bafbbd4c9431"
  },
  {
   "metadata": {},
   "cell_type": "code",
   "outputs": [],
   "execution_count": null,
   "source": "chat_prompt = ChatPromptTemplate.from_messages([system_message_prompt, example_input_one, example_output_one, human_message_prompt])",
   "id": "ea3bf1b14041ff3a"
  },
  {
   "metadata": {},
   "cell_type": "code",
   "outputs": [],
   "execution_count": null,
   "source": [
    "#check input variables\n",
    "chat_prompt.input_variables"
   ],
   "id": "36a5425b97f3fe9"
  },
  {
   "metadata": {},
   "cell_type": "code",
   "outputs": [],
   "execution_count": null,
   "source": [
    "example_legal_text = \"\" #legal mumbo jumbo\n",
    "request = chat_prompt.format_prompt(legal_text = example_legal_text).to_messages()"
   ],
   "id": "5f3a6b31717dd8b6"
  },
  {
   "metadata": {},
   "cell_type": "code",
   "outputs": [],
   "execution_count": null,
   "source": "request",
   "id": "955efb3558fee9d0"
  },
  {
   "metadata": {},
   "cell_type": "code",
   "outputs": [],
   "execution_count": null,
   "source": [
    "result = chat.invoke(request)\n",
    "print(result.content)"
   ],
   "id": "697ace78db764c05"
  }
 ],
 "metadata": {
  "kernelspec": {
   "display_name": "Python 3",
   "language": "python",
   "name": "python3"
  },
  "language_info": {
   "codemirror_mode": {
    "name": "ipython",
    "version": 2
   },
   "file_extension": ".py",
   "mimetype": "text/x-python",
   "name": "python",
   "nbconvert_exporter": "python",
   "pygments_lexer": "ipython2",
   "version": "2.7.6"
  }
 },
 "nbformat": 4,
 "nbformat_minor": 5
}
