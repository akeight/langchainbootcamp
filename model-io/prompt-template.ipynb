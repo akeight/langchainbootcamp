{
 "cells": [
  {
   "cell_type": "code",
   "id": "initial_id",
   "metadata": {
    "collapsed": true,
    "ExecuteTime": {
     "end_time": "2025-03-12T17:30:08.935739Z",
     "start_time": "2025-03-12T17:30:06.183255Z"
    }
   },
   "source": [
    "from langchain.chains.question_answering.map_reduce_prompt import system_template\n",
    "from langchain_openai import ChatOpenAI\n",
    "import os\n",
    "#os.environ.clear()  #to clear .env cache\n",
    "from dotenv import load_dotenv\n",
    "from langchain.chat_models import init_chat_model\n",
    "\n",
    "from langchain import PromptTemplate\n",
    "\n",
    "load_dotenv()\n",
    "api_key = os.getenv(\"OPENAI_API_KEY\")\n",
    "chat = ChatOpenAI()\n",
    "llm = init_chat_model(\"gpt-4o-mini\", model_provider=\"openai\")\n",
    "\n",
    "no_input_prompt = PromptTemplate(\n",
    "    input_variables = [],\n",
    "    template=\"Tell me a fact\")\n",
    "\n",
    "llm.invoke(no_input_prompt.format())\n",
    "\n"
   ],
   "outputs": [
    {
     "data": {
      "text/plain": [
       "AIMessage(content='Honey never spoils. Archaeologists have found pots of honey in ancient Egyptian tombs that are over 3,000 years old and still perfectly edible!', additional_kwargs={'refusal': None}, response_metadata={'token_usage': {'completion_tokens': 32, 'prompt_tokens': 11, 'total_tokens': 43, 'completion_tokens_details': {'accepted_prediction_tokens': 0, 'audio_tokens': 0, 'reasoning_tokens': 0, 'rejected_prediction_tokens': 0}, 'prompt_tokens_details': {'audio_tokens': 0, 'cached_tokens': 0}}, 'model_name': 'gpt-4o-mini-2024-07-18', 'system_fingerprint': 'fp_06737a9306', 'finish_reason': 'stop', 'logprobs': None}, id='run-ed2a0972-89ac-4784-9470-20f3985a97e3-0', usage_metadata={'input_tokens': 11, 'output_tokens': 32, 'total_tokens': 43, 'input_token_details': {'audio': 0, 'cache_read': 0}, 'output_token_details': {'audio': 0, 'reasoning': 0}})"
      ]
     },
     "execution_count": 2,
     "metadata": {},
     "output_type": "execute_result"
    }
   ],
   "execution_count": 2
  },
  {
   "metadata": {
    "ExecuteTime": {
     "end_time": "2025-03-12T17:39:29.655645Z",
     "start_time": "2025-03-12T17:39:27.834946Z"
    }
   },
   "cell_type": "code",
   "source": [
    "single_input_prompt = PromptTemplate(\n",
    "    input_variables = [\"topic\"],\n",
    "    template= \"Tell me a fact about {topic}\"\n",
    ")\n",
    "\n",
    "llm.invoke(single_input_prompt.format(topic=\"baseball\"))"
   ],
   "id": "d5ef15429267bc61",
   "outputs": [
    {
     "data": {
      "text/plain": [
       "AIMessage(content='One interesting fact about baseball is that it is often referred to as \"America\\'s pastime.\" The sport has a rich history in the United States, dating back to the 19th century, and has played a significant role in American culture. The first professional baseball league, the National Association of Professional Base Ball Players, was formed in 1871, paving the way for the establishment of Major League Baseball (MLB) in 1903. Baseball has contributed to many social changes, including the breaking of the color barrier by Jack Robinson in 1947.', additional_kwargs={'refusal': None}, response_metadata={'token_usage': {'completion_tokens': 113, 'prompt_tokens': 13, 'total_tokens': 126, 'completion_tokens_details': {'accepted_prediction_tokens': 0, 'audio_tokens': 0, 'reasoning_tokens': 0, 'rejected_prediction_tokens': 0}, 'prompt_tokens_details': {'audio_tokens': 0, 'cached_tokens': 0}}, 'model_name': 'gpt-4o-mini-2024-07-18', 'system_fingerprint': 'fp_06737a9306', 'finish_reason': 'stop', 'logprobs': None}, id='run-f020f91e-4dd2-4bc4-a800-9de7f8a5db3a-0', usage_metadata={'input_tokens': 13, 'output_tokens': 113, 'total_tokens': 126, 'input_token_details': {'audio': 0, 'cache_read': 0}, 'output_token_details': {'audio': 0, 'reasoning': 0}})"
      ]
     },
     "execution_count": 6,
     "metadata": {},
     "output_type": "execute_result"
    }
   ],
   "execution_count": 6
  },
  {
   "metadata": {
    "ExecuteTime": {
     "end_time": "2025-03-12T17:44:43.306315Z",
     "start_time": "2025-03-12T17:44:40.578784Z"
    }
   },
   "cell_type": "code",
   "source": [
    "multi_input_prompt = PromptTemplate(\n",
    "    input_variables = [\"topic\", \"level\"],\n",
    "    template= \"Tell me a fact about {topic} for a {level} student\"\n",
    ")\n",
    "\n",
    "llm.invoke(multi_input_prompt.format(topic=\"baseball\", level=\"PhD\"))"
   ],
   "id": "391d6378342baa10",
   "outputs": [
    {
     "data": {
      "text/plain": [
       "AIMessage(content='One intriguing fact about baseball that a PhD student might appreciate involves the concept of \"Sabermetrics,\" which is the empirical analysis of baseball statistics. The term \"Sabermetrics\" comes from the Society for American Baseball Research (SABR). Sabermetrics emphasizes the use of advanced statistical methods to evaluate player performance and team strategy, moving beyond traditional metrics like batting average and home runs. One of the most well-known sabermetric evaluations is \"Wins Above Replacement\" (WAR), which attempts to summarize a player\\'s total contributions to their team in terms of the number of additional wins they bring compared to a replacement-level player. This analytical approach has transformed how teams scout talent, construct lineups, and develop game strategies, showcasing the intersection of sports and quantitative research methodologies.', additional_kwargs={'refusal': None}, response_metadata={'token_usage': {'completion_tokens': 156, 'prompt_tokens': 18, 'total_tokens': 174, 'completion_tokens_details': {'accepted_prediction_tokens': 0, 'audio_tokens': 0, 'reasoning_tokens': 0, 'rejected_prediction_tokens': 0}, 'prompt_tokens_details': {'audio_tokens': 0, 'cached_tokens': 0}}, 'model_name': 'gpt-4o-mini-2024-07-18', 'system_fingerprint': 'fp_06737a9306', 'finish_reason': 'stop', 'logprobs': None}, id='run-79510a1e-aecb-4747-82fb-a77ff39b07ae-0', usage_metadata={'input_tokens': 18, 'output_tokens': 156, 'total_tokens': 174, 'input_token_details': {'audio': 0, 'cache_read': 0}, 'output_token_details': {'audio': 0, 'reasoning': 0}})"
      ]
     },
     "execution_count": 9,
     "metadata": {},
     "output_type": "execute_result"
    }
   ],
   "execution_count": 9
  },
  {
   "metadata": {
    "ExecuteTime": {
     "end_time": "2025-03-12T22:16:01.003112Z",
     "start_time": "2025-03-12T22:16:00.997059Z"
    }
   },
   "cell_type": "code",
   "source": [
    "# chat model prompt templates\n",
    "from langchain.prompts import ChatPromptTemplate, PromptTemplate, SystemMessagePromptTemplate, AIMessagePromptTemplate, HumanMessagePromptTemplate\n",
    "from langchain.schema import AIMessage, HumanMessage, SystemMessage\n",
    "\n",
    "system_template = \"You are an recipe chef assistant that specializes in {dietary_preference} dishes that can be prepared in {cooking_time}\"\n",
    "system_message_prompt = SystemMessagePromptTemplate.from_template(system_template)\n",
    "\n",
    "human_template = \"{recipe_request}\"\n",
    "human_message_prompt = HumanMessagePromptTemplate.from_template(human_template)\n",
    "\n",
    "system_message_prompt.input_variables #to check system variables used\n",
    "human_message_prompt.input_variables #to human variables used\n"
   ],
   "id": "f530df96764f6866",
   "outputs": [
    {
     "data": {
      "text/plain": [
       "['recipe_request']"
      ]
     },
     "execution_count": 13,
     "metadata": {},
     "output_type": "execute_result"
    }
   ],
   "execution_count": 13
  },
  {
   "metadata": {
    "ExecuteTime": {
     "end_time": "2025-03-12T22:17:51.742432Z",
     "start_time": "2025-03-12T22:17:51.735795Z"
    }
   },
   "cell_type": "code",
   "source": [
    "chat_prompt = ChatPromptTemplate.from_messages([system_message_prompt, human_message_prompt])\n",
    "chat_prompt.input_variables"
   ],
   "id": "1b0b3d115ff4ba28",
   "outputs": [
    {
     "data": {
      "text/plain": [
       "['cooking_time', 'dietary_preference', 'recipe_request']"
      ]
     },
     "execution_count": 14,
     "metadata": {},
     "output_type": "execute_result"
    }
   ],
   "execution_count": 14
  },
  {
   "metadata": {
    "ExecuteTime": {
     "end_time": "2025-03-12T22:21:54.711250Z",
     "start_time": "2025-03-12T22:21:50.676763Z"
    }
   },
   "cell_type": "code",
   "source": [
    "prompt = chat_prompt.format_prompt(cooking_time=\"25 minutes\",\n",
    "                          recipe_request=\"quick snack\",dietary_preference=\"keto\").to_messages()\n",
    "result = chat.invoke(prompt)\n",
    "print(result.content)"
   ],
   "id": "e1dac1ae5c3ba926",
   "outputs": [
    {
     "name": "stdout",
     "output_type": "stream",
     "text": [
      "One quick and easy keto snack you can make in 25 minutes is a Low-Carb Air Fryer Parmesan Zucchini Chips. \n",
      "\n",
      "Here's a recipe for you:\n",
      "\n",
      "Ingredients:\n",
      "- 2 medium zucchinis\n",
      "- 1/2 cup grated Parmesan cheese\n",
      "- 1/2 teaspoon garlic powder\n",
      "- 1/2 teaspoon onion powder\n",
      "- 1/2 teaspoon paprika\n",
      "- Salt and pepper to taste\n",
      "- Olive oil spray\n",
      "\n",
      "Instructions:\n",
      "1. Preheat your air fryer to 400°F (200°C).\n",
      "2. Slice the zucchinis into thin rounds, about 1/4 inch thick.\n",
      "3. In a bowl, mix the Parmesan cheese, garlic powder, onion powder, paprika, salt, and pepper.\n",
      "4. Dip each zucchini slice into the Parmesan mixture, pressing down gently to coat both sides.\n",
      "5. Place the coated zucchini slices in a single layer in the air fryer basket. You may need to work in batches depending on the size of your air fryer.\n",
      "6. Lightly spray the zucchini slices with olive oil spray.\n",
      "7. Air fry the zucchini chips for about 10-12 minutes, flipping halfway through, until they are golden and crispy.\n",
      "8. Remove from the air fryer and let them cool slightly before enjoying!\n",
      "\n",
      "These Low-Carb Air Fryer Parmesan Zucchini Chips are a crunchy and flavorful keto-friendly snack that you can whip up in no time. Enjoy!\n"
     ]
    }
   ],
   "execution_count": 15
  }
 ],
 "metadata": {
  "kernelspec": {
   "display_name": "Python 3",
   "language": "python",
   "name": "python3"
  },
  "language_info": {
   "codemirror_mode": {
    "name": "ipython",
    "version": 2
   },
   "file_extension": ".py",
   "mimetype": "text/x-python",
   "name": "python",
   "nbconvert_exporter": "python",
   "pygments_lexer": "ipython2",
   "version": "2.7.6"
  }
 },
 "nbformat": 4,
 "nbformat_minor": 5
}
