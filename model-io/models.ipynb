{
 "cells": [
  {
   "cell_type": "code",
   "id": "initial_id",
   "metadata": {
    "collapsed": true,
    "ExecuteTime": {
     "end_time": "2025-03-12T13:08:29.740313Z",
     "start_time": "2025-03-12T13:08:23.424941Z"
    }
   },
   "source": [
    "from langchain_openai import ChatOpenAI\n",
    "import os\n",
    "from dotenv import load_dotenv\n",
    "\n",
    "load_dotenv()\n",
    "api_key = os.getenv(\"OPENAI_API_KEY\")\n",
    "llm = ChatOpenAI()\n",
    "print(llm.invoke(\"Here is a fun fact about pluto:\"))"
   ],
   "outputs": [
    {
     "name": "stdout",
     "output_type": "stream",
     "text": [
      "content=\"Pluto is so small that it is actually smaller than Earth's moon!\" additional_kwargs={'refusal': None} response_metadata={'token_usage': {'completion_tokens': 16, 'prompt_tokens': 16, 'total_tokens': 32, 'completion_tokens_details': {'accepted_prediction_tokens': 0, 'audio_tokens': 0, 'reasoning_tokens': 0, 'rejected_prediction_tokens': 0}, 'prompt_tokens_details': {'audio_tokens': 0, 'cached_tokens': 0}}, 'model_name': 'gpt-3.5-turbo-0125', 'system_fingerprint': None, 'finish_reason': 'stop', 'logprobs': None} id='run-09b21d66-7144-4675-88d7-12f4ec3a5666-0' usage_metadata={'input_tokens': 16, 'output_tokens': 16, 'total_tokens': 32, 'input_token_details': {'audio': 0, 'cache_read': 0}, 'output_token_details': {'audio': 0, 'reasoning': 0}}\n"
     ]
    }
   ],
   "execution_count": 1
  },
  {
   "metadata": {
    "ExecuteTime": {
     "end_time": "2025-03-12T13:17:47.996469Z",
     "start_time": "2025-03-12T13:17:47.990282Z"
    }
   },
   "cell_type": "code",
   "source": [
    "import os\n",
    "from dotenv import find_dotenv, load_dotenv\n",
    "\n",
    "# This will show which .env file is being loaded\n",
    "dotenv_path = find_dotenv()\n",
    "print(f\"Loading .env from: {dotenv_path}\")\n",
    "load_dotenv(dotenv_path)\n",
    "\n",
    "# Print the key to verify what's being loaded\n",
    "api_key = os.getenv(\"OPENAI_API_KEY\")\n",
    "print(f\"API Key: {api_key[:10]}...\")"
   ],
   "id": "d8bfd7114e6e5f9b",
   "outputs": [
    {
     "name": "stdout",
     "output_type": "stream",
     "text": [
      "Loading .env from: C:\\Users\\allys\\DataspellProjects\\langchainbootcamp\\.env\n",
      "API Key: sk-proj-bl...\n"
     ]
    }
   ],
   "execution_count": 4
  },
  {
   "metadata": {
    "ExecuteTime": {
     "end_time": "2025-03-12T13:19:16.346593Z",
     "start_time": "2025-03-12T13:19:16.342432Z"
    }
   },
   "cell_type": "code",
   "source": [
    "import os\n",
    "print(\"Environment variable directly:\", os.environ.get(\"OPENAI_API_KEY\", \"Not set directly\")[:10])"
   ],
   "id": "8dc2b62dfd454129",
   "outputs": [
    {
     "name": "stdout",
     "output_type": "stream",
     "text": [
      "Environment variable directly: sk-proj-bl\n"
     ]
    }
   ],
   "execution_count": 6
  },
  {
   "metadata": {
    "ExecuteTime": {
     "end_time": "2025-03-12T13:09:34.223188Z",
     "start_time": "2025-03-12T13:09:32.706887Z"
    }
   },
   "cell_type": "code",
   "source": "result = llm.generate([\"Here is a fact about Pluto:\", \"Here is a fact about Mars\"])",
   "id": "26b8a750d4576fbd",
   "outputs": [],
   "execution_count": 2
  },
  {
   "metadata": {
    "ExecuteTime": {
     "end_time": "2025-03-12T13:09:37.253064Z",
     "start_time": "2025-03-12T13:09:37.248416Z"
    }
   },
   "cell_type": "code",
   "source": "print(result.generations[1][0].text)",
   "id": "e0766716083c90ef",
   "outputs": [
    {
     "name": "stdout",
     "output_type": "stream",
     "text": [
      "Mars has the largest volcano in the solar system, Olympus Mons, which is over 13 miles high and 370 miles in diameter.\n"
     ]
    }
   ],
   "execution_count": 3
  }
 ],
 "metadata": {
  "kernelspec": {
   "display_name": "Python 3",
   "language": "python",
   "name": "python3"
  },
  "language_info": {
   "codemirror_mode": {
    "name": "ipython",
    "version": 2
   },
   "file_extension": ".py",
   "mimetype": "text/x-python",
   "name": "python",
   "nbconvert_exporter": "python",
   "pygments_lexer": "ipython2",
   "version": "2.7.6"
  }
 },
 "nbformat": 4,
 "nbformat_minor": 5
}
