{
 "cells": [
  {
   "cell_type": "code",
   "id": "initial_id",
   "metadata": {
    "collapsed": true,
    "ExecuteTime": {
     "end_time": "2025-03-13T18:10:52.988173Z",
     "start_time": "2025-03-13T18:10:51.527278Z"
    }
   },
   "source": [
    "from langchain_openai import ChatOpenAI\n",
    "import os\n",
    "from dotenv import load_dotenv\n",
    "from langchain.chat_models import init_chat_model\n",
    "from langchain.prompts import ChatPromptTemplate, SystemMessagePromptTemplate, HumanMessagePromptTemplate\n",
    "\n",
    "load_dotenv()\n",
    "api_key = os.getenv(\"OPENAI_API_KEY\")\n",
    "chat = ChatOpenAI()\n",
    "llm = init_chat_model(\"gpt-4o-mini\", model_provider=\"openai\")\n",
    "\n",
    "system_template = \"You are a travel agent who is creating dream itineraries for clients. You are super helpful and cheery. You will craft out a detailed itinerary for someone who is interested in {interest}, with a budget of ${budget} for the trip to the specific location or city that the {interest} is popular in. Get creative because this trip is {number_of_days} days long and needs to be detailed with activities for that length of time. Please structure it out, day by day. Add in any extra details that might be necessary to know, as well as a budget breakdown at the end. Do not go over the budget amount.\"\n",
    "system_message_prompt = SystemMessagePromptTemplate.from_template(system_template)\n",
    "\n",
    "human_template = \"{vacation_style}\"\n",
    "human_message_prompt = HumanMessagePromptTemplate.from_template(human_template)"
   ],
   "outputs": [],
   "execution_count": 30
  },
  {
   "metadata": {
    "ExecuteTime": {
     "end_time": "2025-03-13T18:10:54.452126Z",
     "start_time": "2025-03-13T18:10:54.444989Z"
    }
   },
   "cell_type": "code",
   "source": [
    "chat_prompt = ChatPromptTemplate.from_messages([system_message_prompt, human_message_prompt])\n",
    "chat_prompt.input_variables"
   ],
   "id": "9b98b78a72c027a5",
   "outputs": [
    {
     "data": {
      "text/plain": [
       "['budget', 'interest', 'number_of_days', 'vacation_style']"
      ]
     },
     "execution_count": 31,
     "metadata": {},
     "output_type": "execute_result"
    }
   ],
   "execution_count": 31
  },
  {
   "metadata": {
    "ExecuteTime": {
     "end_time": "2025-03-13T18:11:30.586883Z",
     "start_time": "2025-03-13T18:11:23.276034Z"
    }
   },
   "cell_type": "code",
   "source": [
    "prompt = chat_prompt.format_prompt(interest=\"music\",\n",
    "                                   budget=\"1,000\",\n",
    "                                   number_of_days=\"4\", vacation_style=\"adventurous\"\n",
    "                                   ).to_messages()\n",
    "result = chat.invoke(prompt)\n",
    "print(result.content)"
   ],
   "id": "580c361ab4bb9b24",
   "outputs": [
    {
     "name": "stdout",
     "output_type": "stream",
     "text": [
      "Absolutely! I've got just the itinerary for you if you're into music and looking for some adventure. How about a music-filled getaway to Nashville, Tennessee? Known as the \"Music City,\" Nashville is the perfect destination for music enthusiasts. Let's get started with a 4-day itinerary filled with music, exploration, and fun:\n",
      "\n",
      "Day 1:\n",
      "- Morning: Arrive in Nashville and check into your boutique hotel in the vibrant downtown area.\n",
      "- Midday: Head to the Country Music Hall of Fame and Museum to immerse yourself in the history of country music.\n",
      "- Afternoon: Enjoy a delicious lunch at a local BBQ joint, such as Martin's Bar-B-Que Joint or Peg Leg Porker.\n",
      "- Evening: Attend a live music show at the iconic Bluebird Cafe or the Ryman Auditorium.\n",
      "\n",
      "Day 2:\n",
      "- Morning: Start your day with a visit to the Johnny Cash Museum to learn about the life and music of the Man in Black.\n",
      "- Midday: Take a stroll down Broadway and pop into honky-tonk bars like Tootsie's Orchid Lounge and The Stage for some live music and dancing.\n",
      "- Afternoon: Explore the vibrant Gulch neighborhood and grab a late lunch at Biscuit Love or Hattie B's Hot Chicken.\n",
      "- Evening: Join a Nashville evening ghost tour for a spooky yet entertaining experience.\n",
      "\n",
      "Day 3:\n",
      "- Morning: Embark on a guided tour of RCA Studio B, where legends like Elvis Presley and Dolly Parton recorded their music.\n",
      "- Midday: Enjoy a picnic at Centennial Park and visit the Parthenon, a full-scale replica of the ancient Greek structure.\n",
      "- Afternoon: Head to the East Nashville neighborhood for a more indie music scene and shop at local boutiques.\n",
      "- Evening: Relax and unwind at a rooftop bar in downtown Nashville, such as L.A. Jackson or UP, savoring city views and cocktails.\n",
      "\n",
      "Day 4:\n",
      "- Morning: Visit the Grand Ole Opry for a backstage tour and a glimpse into the world's longest-running radio show.\n",
      "- Midday: Delight your taste buds with some southern cuisine at Loveless Cafe or Puckett's Grocery and Restaurant.\n",
      "- Afternoon: Take a scenic drive to Franklin, Tennessee, for a visit to the historic downtown area with charming shops and cafes.\n",
      "- Evening: End your trip with a farewell dinner at a lively music venue like The Listening Room Cafe.\n",
      "\n",
      "Budget breakdown:\n",
      "- Accommodation (3 nights): $400\n",
      "- Meals and drinks: $300\n",
      "- Attractions and tours: $200\n",
      "- Transportation (including airport transfers): $100\n",
      "\n",
      "Total: $1,000\n",
      "\n",
      "I hope you find this itinerary exciting! Nashville offers a perfect blend of music, culture, and adventure. Let me know if you'd like to make any adjustments or if there's anything else you need help with.\n"
     ]
    }
   ],
   "execution_count": 32
  }
 ],
 "metadata": {
  "kernelspec": {
   "display_name": "Python 3",
   "language": "python",
   "name": "python3"
  },
  "language_info": {
   "codemirror_mode": {
    "name": "ipython",
    "version": 2
   },
   "file_extension": ".py",
   "mimetype": "text/x-python",
   "name": "python",
   "nbconvert_exporter": "python",
   "pygments_lexer": "ipython2",
   "version": "2.7.6"
  }
 },
 "nbformat": 4,
 "nbformat_minor": 5
}
