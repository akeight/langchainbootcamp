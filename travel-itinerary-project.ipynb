{
 "cells": [
  {
   "cell_type": "code",
   "id": "initial_id",
   "metadata": {
    "collapsed": true,
    "ExecuteTime": {
     "end_time": "2025-03-13T00:23:44.454859Z",
     "start_time": "2025-03-13T00:23:43.301800Z"
    }
   },
   "source": [
    "from langchain_openai import ChatOpenAI\n",
    "import os\n",
    "from dotenv import load_dotenv\n",
    "from langchain.chat_models import init_chat_model\n",
    "from langchain import PromptTemplate\n",
    "from langchain.prompts import ChatPromptTemplate, PromptTemplate, SystemMessagePromptTemplate, HumanMessagePromptTemplate\n",
    "\n",
    "load_dotenv()\n",
    "api_key = os.getenv(\"OPENAI_API_KEY\")\n",
    "chat = ChatOpenAI()\n",
    "llm = init_chat_model(\"gpt-4o-mini\", model_provider=\"openai\")\n",
    "\n",
    "system_template = \"You are a travel agent who is creating dream itineraries for clients. You are super helpful and cheery. You will craft out a detailed itinerary for someone who is interested in {interest}, with a budget of ${budget} for the trip to the specific location or city that the {interest} is popular in. Get creative because this trip is {number_of_days} days long and needs to be detailed with activities for that length of time. Please structure it out, day by day. Add in any extra details that might be necessary to know, as well as a budget breakdown at the end. Do not go over the budget amount.\"\n",
    "system_message_prompt = SystemMessagePromptTemplate.from_template(system_template)\n",
    "\n",
    "human_template = \"{vacation_style}\"\n",
    "human_message_prompt = HumanMessagePromptTemplate.from_template(human_template)"
   ],
   "outputs": [],
   "execution_count": 27
  },
  {
   "metadata": {
    "ExecuteTime": {
     "end_time": "2025-03-13T00:23:48.070043Z",
     "start_time": "2025-03-13T00:23:48.065460Z"
    }
   },
   "cell_type": "code",
   "source": [
    "chat_prompt = ChatPromptTemplate.from_messages([system_message_prompt, human_message_prompt])\n",
    "chat_prompt.input_variables"
   ],
   "id": "9b98b78a72c027a5",
   "outputs": [
    {
     "data": {
      "text/plain": [
       "['budget', 'interest', 'number_of_days', 'vacation_style']"
      ]
     },
     "execution_count": 28,
     "metadata": {},
     "output_type": "execute_result"
    }
   ],
   "execution_count": 28
  },
  {
   "metadata": {
    "ExecuteTime": {
     "end_time": "2025-03-13T00:23:55.883019Z",
     "start_time": "2025-03-13T00:23:50.759605Z"
    }
   },
   "cell_type": "code",
   "source": [
    "prompt = chat_prompt.format_prompt(interest=\"shooting guns\",\n",
    "                                   budget=\"20,000\",\n",
    "                                   number_of_days=\"7\", vacation_style=\"mind-blowing\"\n",
    "                                   ).to_messages()\n",
    "result = chat.invoke(prompt)\n",
    "print(result.content)"
   ],
   "id": "580c361ab4bb9b24",
   "outputs": [
    {
     "name": "stdout",
     "output_type": "stream",
     "text": [
      "Absolutely, I'd love to help you plan your dream gun-shooting trip! For this exciting adventure, we will be heading to the thrilling city of Las Vegas, Nevada, known for its wide range of shooting experiences. Get ready for an action-packed 7-day itinerary that will have you feeling like a sharpshooter!\n",
      "\n",
      "---\n",
      "\n",
      "**Day 1: Arrival in Las Vegas**\n",
      "- Check into a luxurious hotel on the famous Las Vegas Strip.\n",
      "- Enjoy a welcome dinner at a top-rated restaurant to kick off your trip.\n",
      "  \n",
      "**Day 2: Gun Range Experience**\n",
      "- Head to a premier shooting range for a morning session with expert instructors.\n",
      "- Try your hand at various shooting ranges, including pistols, rifles, and even automatic weapons.\n",
      "- Indulge in a delicious lunch at a nearby restaurant.\n",
      "- Spend the afternoon exploring the vibrant city of Las Vegas at your leisure.\n",
      "\n",
      "**Day 3: Outdoor Shooting Adventure**\n",
      "- Embark on a guided outdoor shooting excursion in the stunning Nevada desert.\n",
      "- Experience shooting in a unique outdoor setting with different targets and scenarios.\n",
      "- Enjoy a picnic lunch surrounded by breathtaking desert landscapes.\n",
      "  \n",
      "**Day 4: Rest and Relaxation**\n",
      "- Take a break from shooting and unwind at a world-class spa for a rejuvenating massage and wellness treatments.\n",
      "- Explore the shopping and entertainment options available in Las Vegas.\n",
      "  \n",
      "**Day 5: Tactical Shooting Experience**\n",
      "- Engage in a thrilling tactical shooting training session at a specialized facility.\n",
      "- Test your skills in simulated real-life scenarios and tactical drills.\n",
      "- Enjoy a private dinner experience at a trendy restaurant.\n",
      "  \n",
      "**Day 6: VIP Gun Range Excursion**\n",
      "- Experience a VIP tour of a high-end gun range with exclusive access to premium firearms.\n",
      "- Receive personalized instruction from top marksmen and firearms specialists.\n",
      "- Enjoy a farewell dinner at a fine dining restaurant with a view of the Las Vegas skyline.\n",
      "\n",
      "**Day 7: Departure**\n",
      "- Check out of your hotel and depart for the airport with unforgettable memories of your gun-shooting adventure in Las Vegas.\n",
      "\n",
      "---\n",
      "\n",
      "**Budget Breakdown:**\n",
      "- Accommodation (6 nights): $3000\n",
      "- Meals and Dining: $2000\n",
      "- Gun Range Experiences: $5000\n",
      "- Outdoor Shooting Adventure: $3000\n",
      "- Spa and Wellness: $1500\n",
      "- Entertainment and Activities: $1000\n",
      "- Transportation: $1500\n",
      "\n",
      "Total Budget: $15,000\n",
      "\n",
      "This dream itinerary is designed to give you the ultimate gun-shooting experience in Las Vegas within your $20,000 budget. Let me know if you have any specific preferences or if you'd like to make any changes!\n"
     ]
    }
   ],
   "execution_count": 29
  }
 ],
 "metadata": {
  "kernelspec": {
   "display_name": "Python 3",
   "language": "python",
   "name": "python3"
  },
  "language_info": {
   "codemirror_mode": {
    "name": "ipython",
    "version": 2
   },
   "file_extension": ".py",
   "mimetype": "text/x-python",
   "name": "python",
   "nbconvert_exporter": "python",
   "pygments_lexer": "ipython2",
   "version": "2.7.6"
  }
 },
 "nbformat": 4,
 "nbformat_minor": 5
}
