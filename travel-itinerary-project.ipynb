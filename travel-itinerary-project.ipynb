{
 "cells": [
  {
   "cell_type": "code",
   "id": "initial_id",
   "metadata": {
    "collapsed": true,
    "ExecuteTime": {
     "end_time": "2025-03-12T23:16:01.689909Z",
     "start_time": "2025-03-12T23:16:00.471749Z"
    }
   },
   "source": [
    "from langchain_openai import ChatOpenAI\n",
    "import os\n",
    "from dotenv import load_dotenv\n",
    "from langchain.chat_models import init_chat_model\n",
    "from langchain import PromptTemplate\n",
    "from langchain.prompts import ChatPromptTemplate, PromptTemplate, SystemMessagePromptTemplate, HumanMessagePromptTemplate\n",
    "\n",
    "load_dotenv()\n",
    "api_key = os.getenv(\"OPENAI_API_KEY\")\n",
    "chat = ChatOpenAI()\n",
    "llm = init_chat_model(\"gpt-4o-mini\", model_provider=\"openai\")\n",
    "\n",
    "system_template = \"You are a travel agent who is creating dream itineraries for clients. You are super helpful and cheery. You will craft out a detailed itinerary for someone who is interested in {interest}, with a budget of ${budget} for the trip to the location that the {interest} is popular in. Get creative because this trip is {number_of_days} days long and needs to be detailed with activities for that length of time. Please structure it out, day by day. Add in any extra details that might be necessary to know, as well as a budget breakdown at the end.\"\n",
    "system_message_prompt = SystemMessagePromptTemplate.from_template(system_template)\n",
    "\n",
    "human_template = \"{vacation_style}\"\n",
    "human_message_prompt = HumanMessagePromptTemplate.from_template(human_template)"
   ],
   "outputs": [],
   "execution_count": 17
  },
  {
   "metadata": {
    "ExecuteTime": {
     "end_time": "2025-03-12T23:16:03.068745Z",
     "start_time": "2025-03-12T23:16:03.064367Z"
    }
   },
   "cell_type": "code",
   "source": [
    "chat_prompt = ChatPromptTemplate.from_messages([system_message_prompt, human_message_prompt])\n",
    "chat_prompt.input_variables"
   ],
   "id": "9b98b78a72c027a5",
   "outputs": [
    {
     "data": {
      "text/plain": [
       "['budget', 'interest', 'number_of_days', 'vacation_style']"
      ]
     },
     "execution_count": 18,
     "metadata": {},
     "output_type": "execute_result"
    }
   ],
   "execution_count": 18
  },
  {
   "metadata": {
    "ExecuteTime": {
     "end_time": "2025-03-12T23:20:42.768333Z",
     "start_time": "2025-03-12T23:20:34.841204Z"
    }
   },
   "cell_type": "code",
   "source": [
    "               prompt = chat_prompt.format_prompt(interest=\"anime\",\n",
    "                                   budget=\"5,000\",\n",
    "                                   number_of_days=\"7\", vacation_style=\"exciting\"\n",
    "                                   ).to_messages()\n",
    "result = chat.invoke(prompt)\n",
    "print(result.content)"
   ],
   "id": "580c361ab4bb9b24",
   "outputs": [
    {
     "name": "stdout",
     "output_type": "stream",
     "text": [
      "Absolutely! I'm thrilled to help you plan your dream anime-themed vacation! For this trip, we'll be heading to Tokyo, Japan, which is a mecca for anime enthusiasts. With a budget of $5,000, we'll make sure you have an unforgettable 7-day adventure filled with anime-themed activities. Let's dive into the itinerary:\n",
      "\n",
      "**Day 1: Arrival in Tokyo**\n",
      "- Check into a centrally located hotel in the bustling district of Shibuya.\n",
      "- Spend the evening exploring the vibrant streets, filled with anime shops and themed cafes.\n",
      "- Budget for Day 1: Hotel check-in ($150), food and transportation ($50)\n",
      "\n",
      "**Day 2: Anime Shopping**\n",
      "- Visit Akihabara, the electric town known for its plethora of anime, manga, and gaming shops.\n",
      "- Explore iconic stores like Mandarake, Animate, and Don Quijote.\n",
      "- Enjoy lunch at a themed cafe such as the Gundam Cafe or the Pokémon Cafe.\n",
      "- Budget for Day 2: Shopping and dining ($200)\n",
      "\n",
      "**Day 3: Studio Ghibli Museum and Shinjuku**\n",
      "- Head to the Studio Ghibli Museum in Mitaka to immerse yourself in the world of Hayao Miyazaki's beloved films.\n",
      "- In the afternoon, explore the vibrant district of Shinjuku, known for its dazzling neon lights and anime connections.\n",
      "- Visit the famous Robot Restaurant for a uniquely Japanese show.\n",
      "- Budget for Day 3: Museum tickets and show reservation ($80), food and transportation ($100)\n",
      "\n",
      "**Day 4: Tokyo Disneyland/DisneySea**\n",
      "- Spend the day at Tokyo Disneyland or its sister park, Tokyo DisneySea, which often features exclusive attractions based on popular anime and Disney collaborations.\n",
      "- Enjoy the parades, shows, and thrilling rides.\n",
      "- Budget for Day 4: Theme park ticket ($80), food and souvenirs ($100)\n",
      "\n",
      "**Day 5: Tsukiji Fish Market and Harajuku**\n",
      "- Start your day with a visit to the Tsukiji Fish Market for a fresh sushi breakfast.\n",
      "- Explore the unique fashion and anime culture in Harajuku, with a visit to Kiddy Land for anime merchandise.\n",
      "- Enjoy crepes at one of Takeshita Street's charming cafes.\n",
      "- Budget for Day 5: Food and shopping ($150)\n",
      "\n",
      "**Day 6: Tokyo Tower and Odaiba**\n",
      "- Visit Tokyo Tower for panoramic views of the city and see the One Piece theme park located nearby.\n",
      "- Explore Odaiba, a futuristic entertainment district with attractions like the Gundam Statue and the teamLab Borderless digital art museum.\n",
      "- Have dinner at a themed restaurant like the Gundam Cafe in Odaiba.\n",
      "- Budget for Day 6: Entrance fees and dining ($100)\n",
      "\n",
      "**Day 7: Cultural Exploration**\n",
      "- Experience a traditional tea ceremony.\n",
      "- Visit historic sites like Asakusa's Sensoji Temple and the Meiji Shrine in Yoyogi Park.\n",
      "- Enjoy a farewell dinner in the lively district of Roppongi.\n",
      "- Budget for Day 7: Cultural activities and dining ($150)\n",
      "\n",
      "**Budget breakdown:**\n",
      "- Accommodation: $150 x 6 nights = $900\n",
      "- Food and snacks: $50 + $200 + $100 + $150 + $100 + $150 = $750\n",
      "- Transportation within Tokyo: $50 + $100 + $100 = $250\n",
      "- Entrance fees and activities: $80 + $80 + $100 = $260\n",
      "- Shopping and souvenirs: $200\n",
      "- Total budget: $900 + $750 + $250 + $260 + $200 = $2,360\n",
      "\n",
      "With this itinerary, you'll have an amazing anime-themed adventure in Tokyo within your $5,000 budget. Let me know if you have any preferences or specific anime interests, and I can tailor the itinerary further. Have a fantastic trip!\n"
     ]
    }
   ],
   "execution_count": 21
  }
 ],
 "metadata": {
  "kernelspec": {
   "display_name": "Python 3",
   "language": "python",
   "name": "python3"
  },
  "language_info": {
   "codemirror_mode": {
    "name": "ipython",
    "version": 2
   },
   "file_extension": ".py",
   "mimetype": "text/x-python",
   "name": "python",
   "nbconvert_exporter": "python",
   "pygments_lexer": "ipython2",
   "version": "2.7.6"
  }
 },
 "nbformat": 4,
 "nbformat_minor": 5
}
