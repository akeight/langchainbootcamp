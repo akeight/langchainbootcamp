{
 "cells": [
  {
   "metadata": {
    "ExecuteTime": {
     "end_time": "2025-03-19T22:13:07.877352Z",
     "start_time": "2025-03-19T22:12:32.090143Z"
    }
   },
   "cell_type": "code",
   "source": [
    "from langchain_community.document_loaders import WikipediaLoader\n",
    "\n",
    "loader = WikipediaLoader(query=\"MKUltra\")\n",
    "documents = loader.load()\n",
    "\n",
    "len(documents)"
   ],
   "id": "ccfd1da7c58f9ea3",
   "outputs": [
    {
     "data": {
      "text/plain": [
       "24"
      ]
     },
     "execution_count": 7,
     "metadata": {},
     "output_type": "execute_result"
    }
   ],
   "execution_count": 7
  },
  {
   "metadata": {
    "ExecuteTime": {
     "end_time": "2025-03-19T22:21:30.916204Z",
     "start_time": "2025-03-19T22:21:30.344362Z"
    }
   },
   "cell_type": "code",
   "source": [
    "from langchain.text_splitter import CharacterTextSplitter\n",
    "\n",
    "text_splitter = CharacterTextSplitter.from_tiktoken_encoder(chunk_size=500)\n",
    "docs = text_splitter.split_documents(documents)\n",
    "\n",
    "len(docs)"
   ],
   "id": "5dc4defda2c5c53c",
   "outputs": [
    {
     "name": "stderr",
     "output_type": "stream",
     "text": [
      "Created a chunk of size 537, which is longer than the specified 500\n",
      "Created a chunk of size 694, which is longer than the specified 500\n",
      "Created a chunk of size 525, which is longer than the specified 500\n"
     ]
    },
    {
     "data": {
      "text/plain": [
       "51"
      ]
     },
     "execution_count": 13,
     "metadata": {},
     "output_type": "execute_result"
    }
   ],
   "execution_count": 13
  },
  {
   "metadata": {
    "ExecuteTime": {
     "end_time": "2025-03-19T22:27:52.425948Z",
     "start_time": "2025-03-19T22:27:39.579167Z"
    }
   },
   "cell_type": "code",
   "source": [
    "from langchain_openai import ChatOpenAI\n",
    "import os\n",
    "from dotenv import load_dotenv\n",
    "\n",
    "load_dotenv()\n",
    "api_key = os.getenv(\"OPENAI_API_KEY\")\n",
    "chat = ChatOpenAI()\n",
    "\n",
    "from langchain_openai import OpenAIEmbeddings\n",
    "\n",
    "embedding_function = OpenAIEmbeddings()"
   ],
   "id": "380966e781f48b36",
   "outputs": [],
   "execution_count": 15
  },
  {
   "metadata": {
    "ExecuteTime": {
     "end_time": "2025-03-19T22:31:03.968618Z",
     "start_time": "2025-03-19T22:30:24.545203Z"
    }
   },
   "cell_type": "code",
   "source": [
    "from langchain.vectorstores import Chroma\n",
    "\n",
    "db = Chroma.from_documents(docs, embedding_function,persist_directory=\"./some_new_mkultra\")"
   ],
   "id": "66e68ed6fb5ecb8f",
   "outputs": [
    {
     "name": "stderr",
     "output_type": "stream",
     "text": [
      "C:\\Users\\allys\\AppData\\Local\\Temp\\ipykernel_17872\\3533874241.py:4: LangChainDeprecationWarning: Since Chroma 0.4.x the manual persistence method is no longer supported as docs are automatically persisted.\n",
      "  db.persist()\n"
     ]
    }
   ],
   "execution_count": 16
  },
  {
   "metadata": {
    "ExecuteTime": {
     "end_time": "2025-03-19T22:49:02.620809Z",
     "start_time": "2025-03-19T22:48:50.558396Z"
    }
   },
   "cell_type": "code",
   "source": [
    "from langchain.retrievers.multi_query import MultiQueryRetriever\n",
    "from langchain.chat_models import init_chat_model\n",
    "\n",
    "llm = init_chat_model(\"gpt-4o-mini\", model_provider=\"openai\")\n",
    "\n",
    "question = \"When was this declassified?\"\n",
    "\n",
    "retriever_from_llm = MultiQueryRetriever.from_llm(retriever=db.as_retriever(),llm=llm)\n",
    "\n",
    "retriever_from_llm.get_relevant_documents(query=question)"
   ],
   "id": "fc374be0a7044a3b",
   "outputs": [
    {
     "data": {
      "text/plain": [
       "[Document(metadata={'source': 'https://en.wikipedia.org/wiki/United_States_President%27s_Commission_on_CIA_Activities_within_the_United_States', 'summary': 'The United States President\\'s Commission on CIA Activities within the United States was ordained by President Gerald Ford in 1975 to investigate the activities of the Central Intelligence Agency and other intelligence agencies within the United States. The Presidential Commission was led by Vice President Nelson Rockefeller, from whom it gained the nickname the Rockefeller Commission.\\nThe commission was created in response to a December 1974 report in The New York Times that the CIA had conducted illegal domestic activities, including experiments on US citizens, during the 1960s. The commission issued a single report in 1975, touching upon certain CIA abuses including mail opening and surveillance of domestic dissident groups. It also publicized Project MKUltra, a CIA mind control research program.\\nSeveral weeks later, committees were established in the House and Senate for a similar purpose. White House Personnel, including future Vice President Dick Cheney, edited the results, excluding many of the commission\\'s findings from the final report. Some of these findings were included in later reports by the Congressional Committees.\\nBefore it was even released, the report faced scrutiny from the media, and was deemed a \"whitewash\". The investigation was intended to be independent of Presidential interference, but the findings and recommendations included in the final report were highly altered from what was chosen by the commission itself. It was ultimately superseded in notability by the more substantial Church Committee in what became known as the \"Year of Intelligence\".', 'title': \"United States President's Commission on CIA Activities within the United States\"}, page_content='== Background ==\\nIn 1974, a New York Times article was published that accused the CIA of illegal operations committed against US citizens. Authored by Seymour M. Hersh, it documented an intelligence operation against the anti-war movement, as well as \"break-ins, wiretapping and the surreptitious inspection of mail\" conducted since the 1950s. According to former CIA Official Cord Meyer, these disclosures \"Convinced large sections of the American public that the CIA had become a domestic Gestapo and stimulated an overwhelming demand for the wide-ranging congressional investigations that were to follow.\"\\nHersh had been tipped off to the possibility of an \"in house operation\" by an unidentified member of the CIA in spring of 1974. He embarked on an investigation, speaking to sources that included CIA Chief of Counterintelligence James Angleton. Although he was not aware of its existence, Hersh uncovered much information that had been documented in the \"Family Jewels\", a report ordered by Director of Central Intelligence William Colby that chronicled CIA abuses over the past 25 years. The report would not be formally revealed to the public until 2007.\\n\\n\\n=== Monitoring of anti-war movement and Project MINARET ===\\n\\nThe article alleged that CIA agents had followed and photographed participants in the antiwar movement, as well as other demonstrations. It also reported that the CIA \"set up a network of informants who were ordered to penetrate antiwar groups\", and even placed an avowedly anti-war congressperson under surveillance while putting other lawmakers in a dossier on dissident Americans.\\nInstituted in 1967 by the NSA, Project MINARET\\'s purpose was to document \"Soviet, Chinese, and North Vietnamese influence over the militant civil rights and anti–Vietnam War movements\" for the CIA and FBI, according to historian Donald Critchlow. The NSA provided CIA and FBI officials  with reports of intercepted international communications by certain individuals in these movements. NSA officials stipulated that FBI and CIA agents must destroy or return these reports within two weeks of receiving them. The NSA also required that \"the reports not be \\'identified with the National Security Agency\\' and that all records relating to this program were \\'not serialize[d]\\' or filed with other NSA records, were classified \\'Top Secret,\\' and were stamped \\'Background Use Only\\'... because the'),\n",
       " Document(metadata={'source': 'https://en.wikipedia.org/wiki/Project_Artichoke', 'summary': \"Project Artichoke (also referred to as Operation Artichoke) was a project developed and enacted by the United States Central Intelligence Agency (CIA) for the purpose of researching methods of interrogation. Project Artichoke was succeeded by Project MKUltra, which began in 1953.\\nInitially known as Project Bluebird, Project Artichoke officially arose on August 20, 1951, and was operated by the CIA's Office of Scientific Intelligence. The primary goal of Project Artichoke was to determine whether a person could be involuntarily made to perform an act of attempted assassination. The project also studied the effects of mind control and hypnosis, forced addiction to (and subsequent withdrawal from) morphine, and other chemicals, including LSD, to produce amnesia and other vulnerable states in victims.\", 'title': 'Project Artichoke'}, page_content='== See also ==\\nCIA activities in the United States\\nFrank Olson\\nMKUltra\\nMKNAOMI\\nMKOFTEN\\nProject CHATTER\\nUnethical human experimentation in the United States\\n\\n\\n== Footnotes ==\\n\\n\\n== References ==\\nMaret, Susan (2018-02-16). \"Murky Projects and Uneven Information Policies: A Case Study of the Psychological Strategy Board and CIA\". Secrecy and Society. 1 (2). doi:10.31979/2377-6188.2018.010206. ISSN 2377-6188.\\nRonson, Jon (2004). The Men Who Stare at Goats. London: Picador. ISBN 0-330-37547-4. OCLC 56653467.\\n\\n\\n== External links ==\\nTranscriptions of Declassified Project Artichoke Documents at the Wayback Machine (archived May 1, 2011)'),\n",
       " Document(metadata={'source': 'https://en.wikipedia.org/wiki/United_States_President%27s_Commission_on_CIA_Activities_within_the_United_States', 'summary': 'The United States President\\'s Commission on CIA Activities within the United States was ordained by President Gerald Ford in 1975 to investigate the activities of the Central Intelligence Agency and other intelligence agencies within the United States. The Presidential Commission was led by Vice President Nelson Rockefeller, from whom it gained the nickname the Rockefeller Commission.\\nThe commission was created in response to a December 1974 report in The New York Times that the CIA had conducted illegal domestic activities, including experiments on US citizens, during the 1960s. The commission issued a single report in 1975, touching upon certain CIA abuses including mail opening and surveillance of domestic dissident groups. It also publicized Project MKUltra, a CIA mind control research program.\\nSeveral weeks later, committees were established in the House and Senate for a similar purpose. White House Personnel, including future Vice President Dick Cheney, edited the results, excluding many of the commission\\'s findings from the final report. Some of these findings were included in later reports by the Congressional Committees.\\nBefore it was even released, the report faced scrutiny from the media, and was deemed a \"whitewash\". The investigation was intended to be independent of Presidential interference, but the findings and recommendations included in the final report were highly altered from what was chosen by the commission itself. It was ultimately superseded in notability by the more substantial Church Committee in what became known as the \"Year of Intelligence\".', 'title': \"United States President's Commission on CIA Activities within the United States\"}, page_content='The United States President\\'s Commission on CIA Activities within the United States was ordained by President Gerald Ford in 1975 to investigate the activities of the Central Intelligence Agency and other intelligence agencies within the United States. The Presidential Commission was led by Vice President Nelson Rockefeller, from whom it gained the nickname the Rockefeller Commission.\\nThe commission was created in response to a December 1974 report in The New York Times that the CIA had conducted illegal domestic activities, including experiments on US citizens, during the 1960s. The commission issued a single report in 1975, touching upon certain CIA abuses including mail opening and surveillance of domestic dissident groups. It also publicized Project MKUltra, a CIA mind control research program.\\nSeveral weeks later, committees were established in the House and Senate for a similar purpose. White House Personnel, including future Vice President Dick Cheney, edited the results, excluding many of the commission\\'s findings from the final report. Some of these findings were included in later reports by the Congressional Committees.\\nBefore it was even released, the report faced scrutiny from the media, and was deemed a \"whitewash\". The investigation was intended to be independent of Presidential interference, but the findings and recommendations included in the final report were highly altered from what was chosen by the commission itself. It was ultimately superseded in notability by the more substantial Church Committee in what became known as the \"Year of Intelligence\".'),\n",
       " Document(metadata={'source': 'https://en.wikipedia.org/wiki/Allen_Dulles', 'summary': \"Allen Welsh Dulles ( DUL-iss; April 7, 1893 – January 29, 1969) was an American lawyer who was the first civilian director of central intelligence (DCI), and its longest serving director. As head of the Central Intelligence Agency (CIA) during the early Cold War, he oversaw numerous illegal activities such as, the 1953 Iranian coup d'état, the 1954 Guatemalan coup d'état, the Project MKUltra mind control program, and the Bay of Pigs Invasion in 1961. As a result of the failed invasion of Cuba, Dulles was fired by President John F. Kennedy.\\nDulles was a member of the Warren Commission that investigated Kennedy's assassination. A conspiracy theory suggesting that Dulles and the CIA were somehow involved in Kennedy's assassination and its potential cover up in the Warren Commission have been subject to popular debate among historians, political commentators and conspiracy theorists. In 1979, the House Select Committee on Assassinations (HSCA) concluded that the CIA was not involved in the assassination of Kennedy.\\nBetween his stints of government service, Dulles was a corporate lawyer and partner at Sullivan & Cromwell. His older brother, John Foster Dulles, was the Secretary of State during the Eisenhower administration and is the namesake of Dulles International Airport.\\n\\n\", 'title': 'Allen Dulles'}, page_content=\"== Early career ==\\nInitially assigned to Vienna, he was transferred to Bern, Switzerland, along with the rest of the embassy personnel shortly before the U.S. entered the First World War. Later in life Dulles said he had been telephoned by Vladimir Lenin, seeking a meeting with the American embassy on April 8, 1917, the day before Lenin left Switzerland to travel to Saint Petersburg aboard a German train. After recovering from the Spanish flu he was assigned to the American delegation at the Paris Peace Conference, along with his elder brother Foster. \\nIn 1921, while at the US Embassy in Istanbul, he helped expose The Protocols of the Elders of Zion as a forgery. Dulles unsuccessfully attempted to persuade the US State Department to publicly denounce the forgery.\\nFrom 1922 to 1926, Dulles served as chief of the Near East division of the Department of State. He then earned a law degree from George Washington University Law School and took a job at Sullivan & Cromwell, the New York firm where his brother, John Foster Dulles, was a partner. He became a director of the Council on Foreign Relations in 1927, the first new director since the Council's founding in 1921. He was the Council's secretary from 1933 to 1944 and its president from 1946 to\"),\n",
       " Document(metadata={'source': 'https://en.wikipedia.org/wiki/Allen_Dulles', 'summary': \"Allen Welsh Dulles ( DUL-iss; April 7, 1893 – January 29, 1969) was an American lawyer who was the first civilian director of central intelligence (DCI), and its longest serving director. As head of the Central Intelligence Agency (CIA) during the early Cold War, he oversaw numerous illegal activities such as, the 1953 Iranian coup d'état, the 1954 Guatemalan coup d'état, the Project MKUltra mind control program, and the Bay of Pigs Invasion in 1961. As a result of the failed invasion of Cuba, Dulles was fired by President John F. Kennedy.\\nDulles was a member of the Warren Commission that investigated Kennedy's assassination. A conspiracy theory suggesting that Dulles and the CIA were somehow involved in Kennedy's assassination and its potential cover up in the Warren Commission have been subject to popular debate among historians, political commentators and conspiracy theorists. In 1979, the House Select Committee on Assassinations (HSCA) concluded that the CIA was not involved in the assassination of Kennedy.\\nBetween his stints of government service, Dulles was a corporate lawyer and partner at Sullivan & Cromwell. His older brother, John Foster Dulles, was the Secretary of State during the Eisenhower administration and is the namesake of Dulles International Airport.\\n\\n\", 'title': 'Allen Dulles'}, page_content=\"Allen Welsh Dulles ( DUL-iss; April 7, 1893 – January 29, 1969) was an American lawyer who was the first civilian director of central intelligence (DCI), and its longest serving director. As head of the Central Intelligence Agency (CIA) during the early Cold War, he oversaw numerous illegal activities such as, the 1953 Iranian coup d'état, the 1954 Guatemalan coup d'état, the Project MKUltra mind control program, and the Bay of Pigs Invasion in 1961. As a result of the failed invasion of Cuba, Dulles was fired by President John F. Kennedy.\\nDulles was a member of the Warren Commission that investigated Kennedy's assassination. A conspiracy theory suggesting that Dulles and the CIA were somehow involved in Kennedy's assassination and its potential cover up in the Warren Commission have been subject to popular debate among historians, political commentators and conspiracy theorists. In 1979, the House Select Committee on Assassinations (HSCA) concluded that the CIA was not involved in the assassination of Kennedy.\\nBetween his stints of government service, Dulles was a corporate lawyer and partner at Sullivan & Cromwell. His older brother, John Foster Dulles, was the Secretary of State during the Eisenhower administration and is the namesake of Dulles International Airport.\")]"
      ]
     },
     "execution_count": 20,
     "metadata": {},
     "output_type": "execute_result"
    }
   ],
   "execution_count": 20
  },
  {
   "metadata": {},
   "cell_type": "code",
   "outputs": [],
   "execution_count": null,
   "source": "# multiquery retriever has been deprecated",
   "id": "c2294532baf659d3"
  }
 ],
 "metadata": {
  "kernelspec": {
   "display_name": "Python 3",
   "language": "python",
   "name": "python3"
  },
  "language_info": {
   "codemirror_mode": {
    "name": "ipython",
    "version": 2
   },
   "file_extension": ".py",
   "mimetype": "text/x-python",
   "name": "python",
   "nbconvert_exporter": "python",
   "pygments_lexer": "ipython2",
   "version": "2.7.6"
  }
 },
 "nbformat": 4,
 "nbformat_minor": 5
}
