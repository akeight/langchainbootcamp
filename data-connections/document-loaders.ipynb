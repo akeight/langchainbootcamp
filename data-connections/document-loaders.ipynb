{
 "cells": [
  {
   "cell_type": "code",
   "id": "initial_id",
   "metadata": {
    "collapsed": true
   },
   "source": [
    "#create instance and point to file you want to load (typically a list)\n",
    "from langchain_community.document_loaders import CSVLoader\n",
    "\n",
    "loader = CSVLoader(file_path=\"./some_data/penguins.csv\")\n",
    "docs = loader.load()\n",
    "type(docs[0])"
   ],
   "outputs": [],
   "execution_count": null
  },
  {
   "metadata": {},
   "cell_type": "code",
   "source": "print(docs[0].metadata)",
   "id": "6ee80d074d8e683b",
   "outputs": [],
   "execution_count": null
  },
  {
   "metadata": {},
   "cell_type": "code",
   "source": [
    "#create instance and point to a html file\n",
    "from langchain_community.document_loaders import BSHTMLLoader\n",
    "\n",
    "loader = BSHTMLLoader(file_path=\"./some_data/some_website.html\", bs_kwargs={'features': 'html.parser'})\n",
    "file = loader.load()\n",
    "file[0].page_content"
   ],
   "id": "81d3a8b3b93192df",
   "outputs": [],
   "execution_count": null
  },
  {
   "metadata": {
    "ExecuteTime": {
     "end_time": "2025-03-14T16:56:19.657680Z",
     "start_time": "2025-03-14T16:56:19.645377Z"
    }
   },
   "cell_type": "code",
   "source": [
    "#create instance and point to a pdf document\n",
    "#creates issues commonly -- need to customize\n",
    "from langchain_community.document_loaders import PyPDFLoader\n",
    "\n",
    "loader = PyPDFLoader(file_path=\"./some_data/SomeReport.pdf\")\n",
    "pages = loader.load()\n",
    "print(pages[0].page_content)"
   ],
   "id": "c2932fff28c33e78",
   "outputs": [
    {
     "name": "stdout",
     "output_type": "stream",
     "text": [
      "Thisisthefirst linePDF.ThisisthesecondlineinthePDF.ThisisthethirdlineinthePDF.\n"
     ]
    }
   ],
   "execution_count": 19
  },
  {
   "metadata": {},
   "cell_type": "code",
   "outputs": [],
   "execution_count": null,
   "source": "# Integrations\n",
   "id": "3723b25926d544ea"
  }
 ],
 "metadata": {
  "kernelspec": {
   "display_name": "Python 3",
   "language": "python",
   "name": "python3"
  },
  "language_info": {
   "codemirror_mode": {
    "name": "ipython",
    "version": 2
   },
   "file_extension": ".py",
   "mimetype": "text/x-python",
   "name": "python",
   "nbconvert_exporter": "python",
   "pygments_lexer": "ipython2",
   "version": "2.7.6"
  }
 },
 "nbformat": 4,
 "nbformat_minor": 5
}
