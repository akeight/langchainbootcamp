{
 "cells": [
  {
   "cell_type": "code",
   "id": "initial_id",
   "metadata": {
    "collapsed": true,
    "ExecuteTime": {
     "end_time": "2025-03-15T22:31:50.172409Z",
     "start_time": "2025-03-15T22:31:50.166836Z"
    }
   },
   "source": [
    "#pip install vector database\n",
    "import chromadb\n",
    "from langchain_openai import OpenAIEmbeddings\n",
    "from langchain.text_splitter import CharacterTextSplitter\n",
    "from langchain.vectorstores import Chroma\n",
    "from langchain_community.document_loaders import TextLoader\n",
    "import os\n",
    "from dotenv import load_dotenv\n",
    "\n",
    "load_dotenv()\n",
    "api_key = os.getenv(\"OPENAI_API_KEY\")\n",
    "\n",
    "#load document, split into chunks\n",
    "\n",
    "#embedding, embed chunks into vectors\n",
    "\n",
    "#vector chunks, save to chromadb\n",
    "\n",
    "#\"query\", similarity search chromadb"
   ],
   "outputs": [],
   "execution_count": 13
  },
  {
   "metadata": {
    "ExecuteTime": {
     "end_time": "2025-03-15T22:31:52.382872Z",
     "start_time": "2025-03-15T22:31:52.367695Z"
    }
   },
   "cell_type": "code",
   "source": [
    "loader = TextLoader(file_path=\"./some_data/FDR_State_of_Union_1944.txt\")\n",
    "\n",
    "documents = loader.load()\n",
    "\n",
    "text_splitter = CharacterTextSplitter.from_tiktoken_encoder(chunk_size=500)\n",
    "\n",
    "docs = text_splitter.split_documents(documents)"
   ],
   "id": "8796f24484eb914e",
   "outputs": [],
   "execution_count": 14
  },
  {
   "metadata": {},
   "cell_type": "code",
   "source": [
    "#view\n",
    "docs"
   ],
   "id": "42b44981bf86e2c0",
   "outputs": [],
   "execution_count": null
  },
  {
   "metadata": {
    "ExecuteTime": {
     "end_time": "2025-03-15T22:31:59.951140Z",
     "start_time": "2025-03-15T22:31:58.272215Z"
    }
   },
   "cell_type": "code",
   "source": [
    "embedding_function = OpenAIEmbeddings(api_key=api_key)\n",
    "\n",
    "#create new database entry-- (list of documents, embedding function, directory that it goes in)\n",
    "db = Chroma.from_documents(docs,embedding_function,persist_directory=\"./speech_new_db\")"
   ],
   "id": "32ea21afed2dbb38",
   "outputs": [],
   "execution_count": 15
  },
  {
   "metadata": {
    "ExecuteTime": {
     "end_time": "2025-03-15T22:32:02.890821Z",
     "start_time": "2025-03-15T22:32:02.816328Z"
    }
   },
   "cell_type": "code",
   "source": [
    "#reload embeddings\n",
    "db_new_connection = Chroma(persist_directory=\"./speech_new_db\", embedding_function=embedding_function)"
   ],
   "id": "847e721066c4fff8",
   "outputs": [],
   "execution_count": 16
  },
  {
   "metadata": {
    "ExecuteTime": {
     "end_time": "2025-03-15T22:38:22.895523Z",
     "start_time": "2025-03-15T22:38:22.338591Z"
    }
   },
   "cell_type": "code",
   "source": [
    "#query for a doc\n",
    "new_doc = \"cost of food law, FDR\"\n",
    "\n",
    "similar_docs = db_new_connection.similarity_search(new_doc)\n",
    "\n",
    "print(similar_docs[0].page_content)"
   ],
   "id": "3fdb9bbdc2e5a78b",
   "outputs": [
    {
     "name": "stdout",
     "output_type": "stream",
     "text": [
      "(2) A continuation of the law for the renegotiation of war contractsâ€”which will prevent exorbitant profits and assure fair prices to the Government. For two long years I have pleaded with the Congress to take undue profits out of war.\n",
      "\n",
      "(3) A cost of food lawâ€”which will enable the Government (a) to place a reasonable floor under the prices the farmer may expect for his production; and (b) to place a ceiling on the prices a consumer will have to pay for the food he buys. This should apply to necessities only; and will require public funds to carry out. It will cost in appropriations about one percent of the present annual cost of the war.\n",
      "\n",
      "(4) Early reenactment of. the stabilization statute of October, 1942. This expires June 30, 1944, and if it is not extended well in advance, the country might just as well expect price chaos by summer.\n",
      "\n",
      "(5) A national service law- which, for the duration of the war, will prevent strikes, and, with certain appropriate exceptions, will make available for war production or for any other essential services every able-bodied adult in this Nation.\n",
      "\n",
      "These five measures together form a just and equitable whole. I would not recommend a national service law unless the other laws were passed to keep down the cost of living, to share equitably the burdens of taxation, to hold the stabilization line, and to prevent undue profits.\n",
      "\n",
      "The Federal Government already has the basic power to draft capital and property of all kinds for war purposes on a basis of just compensation.\n",
      "\n",
      "As you know, I have for three years hesitated to recommend a national service act. Today, however, I am convinced of its necessity. Although I believe that we and our allies can win the war without such a measure, I am certain that nothing less than total mobilization of all our resources of manpower and capital will guarantee an earlier victory, and reduce the toll of suffering and sorrow and blood.\n",
      "\n",
      "I have received a joint recommendation for this law from the heads of the War Department, the Navy Department, and the Maritime Commission. These are the men who bear responsibility for the procurement of the necessary arms and equipment, and for the successful prosecution of the war in the field. They say:\n"
     ]
    }
   ],
   "execution_count": 18
  },
  {
   "metadata": {
    "ExecuteTime": {
     "end_time": "2025-03-15T22:42:09.762765Z",
     "start_time": "2025-03-15T22:42:09.665568Z"
    }
   },
   "cell_type": "code",
   "source": [
    "#add a new doc to chromadb\n",
    "\n",
    "loader = TextLoader(file_path=\"./some_data/Lincoln_State_of_Union_1862.txt\")\n",
    "documents = loader.load()\n",
    "\n",
    "docs = text_splitter.split_documents(documents)"
   ],
   "id": "48a2efa1a5be666d",
   "outputs": [
    {
     "name": "stderr",
     "output_type": "stream",
     "text": [
      "Created a chunk of size 611, which is longer than the specified 500\n",
      "Created a chunk of size 539, which is longer than the specified 500\n",
      "Created a chunk of size 686, which is longer than the specified 500\n"
     ]
    }
   ],
   "execution_count": 19
  },
  {
   "metadata": {
    "ExecuteTime": {
     "end_time": "2025-03-15T22:44:09.618341Z",
     "start_time": "2025-03-15T22:44:08.217645Z"
    }
   },
   "cell_type": "code",
   "source": "db_new = Chroma.from_documents(docs,embedding_function,persist_directory=\"./speech_new_db\")",
   "id": "cc6bada5ab4cedc3",
   "outputs": [],
   "execution_count": 20
  },
  {
   "metadata": {
    "ExecuteTime": {
     "end_time": "2025-03-15T22:45:36.264311Z",
     "start_time": "2025-03-15T22:45:35.574832Z"
    }
   },
   "cell_type": "code",
   "source": [
    "docs = db_new.similarity_search(\"slavery\")\n",
    "print(docs[0].page_content)"
   ],
   "id": "5654e2f934537a31",
   "outputs": [
    {
     "name": "stdout",
     "output_type": "stream",
     "text": [
      "As to the second article, I think it would be impracticable to return to bondage the class of persons therein contemplated. Some of them, doubtless, in the property sense belong to loyal owners, and hence provision is made in this article for compensating such. The third article relates to the future of the freed people. It does not oblige, but merely authorizes Congress to aid in colonizing such as may consent. This ought not to be regarded as objectionable on the one hand or on the other, insomuch as it comes to nothing unless by the mutual consent of the people to be deported and the American voters, through their representatives in Congress.\n",
      "\n",
      "I can not make it better known than it already is that I strongly favor colonization; and yet I wish to say there is an objection urged against free colored persons remaining in the country which is largely imaginary, if not sometimes malicious.\n",
      "\n",
      "It is insisted that their presence would injure and displace white labor and white laborers. If there ever could be a proper time for mere catch arguments, that time surely is not now. In times like the present men should utter nothing for which they would not willingly be responsible through time and in eternity. Is it true, then, that colored people can displace any more white labor by being free than by remaining slaves? If they stay in their old places, they jostle no white laborers; if they leave their old places, they leave them open to white laborers. Logically, there is neither more nor less of it. Emancipation, even without deportation, would probably enhance the wages of white labor, and very surely would not reduce them. Thus the customary amount of labor would still have to be performedâ€”the freed people would surely not do more than their old proportion of it, and very probably for a time would do less, leaving an increased part to white laborers, bringing their labor into greater demand, and consequently enhancing the wages of it. With deportation, even to a limited extent, enhanced wages to white labor is mathematically certain. Labor is like any other commodity in the marketâ€”increase the demand for it and you increase the price of it. Reduce the supply of black labor by colonizing the black laborer out of the country, and by precisely so much you increase the demand for and wages of white labor.\n"
     ]
    }
   ],
   "execution_count": 21
  },
  {
   "metadata": {
    "ExecuteTime": {
     "end_time": "2025-03-15T22:47:04.730832Z",
     "start_time": "2025-03-15T22:47:04.061571Z"
    }
   },
   "cell_type": "code",
   "source": [
    "docs = db_new.similarity_search(\"cost of food law\")\n",
    "print(docs[0].page_content)"
   ],
   "id": "c27d880160895775",
   "outputs": [
    {
     "name": "stdout",
     "output_type": "stream",
     "text": [
      "(2) A continuation of the law for the renegotiation of war contractsâ€”which will prevent exorbitant profits and assure fair prices to the Government. For two long years I have pleaded with the Congress to take undue profits out of war.\n",
      "\n",
      "(3) A cost of food lawâ€”which will enable the Government (a) to place a reasonable floor under the prices the farmer may expect for his production; and (b) to place a ceiling on the prices a consumer will have to pay for the food he buys. This should apply to necessities only; and will require public funds to carry out. It will cost in appropriations about one percent of the present annual cost of the war.\n",
      "\n",
      "(4) Early reenactment of. the stabilization statute of October, 1942. This expires June 30, 1944, and if it is not extended well in advance, the country might just as well expect price chaos by summer.\n",
      "\n",
      "(5) A national service law- which, for the duration of the war, will prevent strikes, and, with certain appropriate exceptions, will make available for war production or for any other essential services every able-bodied adult in this Nation.\n",
      "\n",
      "These five measures together form a just and equitable whole. I would not recommend a national service law unless the other laws were passed to keep down the cost of living, to share equitably the burdens of taxation, to hold the stabilization line, and to prevent undue profits.\n",
      "\n",
      "The Federal Government already has the basic power to draft capital and property of all kinds for war purposes on a basis of just compensation.\n",
      "\n",
      "As you know, I have for three years hesitated to recommend a national service act. Today, however, I am convinced of its necessity. Although I believe that we and our allies can win the war without such a measure, I am certain that nothing less than total mobilization of all our resources of manpower and capital will guarantee an earlier victory, and reduce the toll of suffering and sorrow and blood.\n",
      "\n",
      "I have received a joint recommendation for this law from the heads of the War Department, the Navy Department, and the Maritime Commission. These are the men who bear responsibility for the procurement of the necessary arms and equipment, and for the successful prosecution of the war in the field. They say:\n"
     ]
    }
   ],
   "execution_count": 22
  },
  {
   "metadata": {
    "ExecuteTime": {
     "end_time": "2025-03-15T23:02:27.355822Z",
     "start_time": "2025-03-15T23:02:26.318662Z"
    }
   },
   "cell_type": "code",
   "source": [
    "#pass in vector stores as retriever objects -- as_retriever() method\n",
    "\n",
    "type(db_new)\n",
    "\n",
    "retriever = db_new.as_retriever()\n",
    "results = retriever.invoke(\"cost of food law\")\n",
    "\n",
    "print(results)"
   ],
   "id": "cee0c48d29332303",
   "outputs": [
    {
     "name": "stdout",
     "output_type": "stream",
     "text": [
      "[Document(metadata={'source': './some_data/FDR_State_of_Union_1944.txt'}, page_content='(2) A continuation of the law for the renegotiation of war contractsâ€”which will prevent exorbitant profits and assure fair prices to the Government. For two long years I have pleaded with the Congress to take undue profits out of war.\\n\\n(3) A cost of food lawâ€”which will enable the Government (a) to place a reasonable floor under the prices the farmer may expect for his production; and (b) to place a ceiling on the prices a consumer will have to pay for the food he buys. This should apply to necessities only; and will require public funds to carry out. It will cost in appropriations about one percent of the present annual cost of the war.\\n\\n(4) Early reenactment of. the stabilization statute of October, 1942. This expires June 30, 1944, and if it is not extended well in advance, the country might just as well expect price chaos by summer.\\n\\n(5) A national service law- which, for the duration of the war, will prevent strikes, and, with certain appropriate exceptions, will make available for war production or for any other essential services every able-bodied adult in this Nation.\\n\\nThese five measures together form a just and equitable whole. I would not recommend a national service law unless the other laws were passed to keep down the cost of living, to share equitably the burdens of taxation, to hold the stabilization line, and to prevent undue profits.\\n\\nThe Federal Government already has the basic power to draft capital and property of all kinds for war purposes on a basis of just compensation.\\n\\nAs you know, I have for three years hesitated to recommend a national service act. Today, however, I am convinced of its necessity. Although I believe that we and our allies can win the war without such a measure, I am certain that nothing less than total mobilization of all our resources of manpower and capital will guarantee an earlier victory, and reduce the toll of suffering and sorrow and blood.\\n\\nI have received a joint recommendation for this law from the heads of the War Department, the Navy Department, and the Maritime Commission. These are the men who bear responsibility for the procurement of the necessary arms and equipment, and for the successful prosecution of the war in the field. They say:'), Document(metadata={'source': './some_data/FDR_State_of_Union_1944.txt'}, page_content='(2) A continuation of the law for the renegotiation of war contractsâ€”which will prevent exorbitant profits and assure fair prices to the Government. For two long years I have pleaded with the Congress to take undue profits out of war.\\n\\n(3) A cost of food lawâ€”which will enable the Government (a) to place a reasonable floor under the prices the farmer may expect for his production; and (b) to place a ceiling on the prices a consumer will have to pay for the food he buys. This should apply to necessities only; and will require public funds to carry out. It will cost in appropriations about one percent of the present annual cost of the war.\\n\\n(4) Early reenactment of. the stabilization statute of October, 1942. This expires June 30, 1944, and if it is not extended well in advance, the country might just as well expect price chaos by summer.\\n\\n(5) A national service law- which, for the duration of the war, will prevent strikes, and, with certain appropriate exceptions, will make available for war production or for any other essential services every able-bodied adult in this Nation.\\n\\nThese five measures together form a just and equitable whole. I would not recommend a national service law unless the other laws were passed to keep down the cost of living, to share equitably the burdens of taxation, to hold the stabilization line, and to prevent undue profits.\\n\\nThe Federal Government already has the basic power to draft capital and property of all kinds for war purposes on a basis of just compensation.\\n\\nAs you know, I have for three years hesitated to recommend a national service act. Today, however, I am convinced of its necessity. Although I believe that we and our allies can win the war without such a measure, I am certain that nothing less than total mobilization of all our resources of manpower and capital will guarantee an earlier victory, and reduce the toll of suffering and sorrow and blood.\\n\\nI have received a joint recommendation for this law from the heads of the War Department, the Navy Department, and the Maritime Commission. These are the men who bear responsibility for the procurement of the necessary arms and equipment, and for the successful prosecution of the war in the field. They say:'), Document(metadata={'source': './some_data/FDR_State_of_Union_1944.txt'}, page_content='That attitude on the part of anyoneâ€”Government or management or laborâ€”can lengthen this war. It can kill American boys.\\n\\nLet us remember the lessons of 1918. In the summer of that year the tide turned in favor of the allies. But this Government did not relax. In fact, our national effort was stepped up. In August, 1918, the draft age limits were broadened from 21-31 to 18-45. The President called for \"force to the utmost,\" and his call was heeded. And in November, only three months later, Germany surrendered.\\n\\nThat is the way to fight and win a warâ€”all outâ€”and not with half-an-eye on the battlefronts abroad and the other eye-and-a-half on personal, selfish, or political interests here at home.\\n\\nTherefore, in order to concentrate all our energies and resources on winning the war, and to maintain a fair and stable economy at home, I recommend that the Congress adopt:\\n\\n(1) A realistic tax lawâ€”which will tax all unreasonable profits, both individual and corporate, and reduce the ultimate cost of the war to our sons and daughters. The tax bill now under consideration by the Congress does not begin to meet this test.\\n\\n(2) A continuation of the law for the renegotiation of war contractsâ€”which will prevent exorbitant profits and assure fair prices to the Government. For two long years I have pleaded with the Congress to take undue profits out of war.\\n\\n(3) A cost of food lawâ€”which will enable the Government (a) to place a reasonable floor under the prices the farmer may expect for his production; and (b) to place a ceiling on the prices a consumer will have to pay for the food he buys. This should apply to necessities only; and will require public funds to carry out. It will cost in appropriations about one percent of the present annual cost of the war.\\n\\n(4) Early reenactment of. the stabilization statute of October, 1942. This expires June 30, 1944, and if it is not extended well in advance, the country might just as well expect price chaos by summer.'), Document(metadata={'source': './some_data/FDR_State_of_Union_1944.txt'}, page_content='That attitude on the part of anyoneâ€”Government or management or laborâ€”can lengthen this war. It can kill American boys.\\n\\nLet us remember the lessons of 1918. In the summer of that year the tide turned in favor of the allies. But this Government did not relax. In fact, our national effort was stepped up. In August, 1918, the draft age limits were broadened from 21-31 to 18-45. The President called for \"force to the utmost,\" and his call was heeded. And in November, only three months later, Germany surrendered.\\n\\nThat is the way to fight and win a warâ€”all outâ€”and not with half-an-eye on the battlefronts abroad and the other eye-and-a-half on personal, selfish, or political interests here at home.\\n\\nTherefore, in order to concentrate all our energies and resources on winning the war, and to maintain a fair and stable economy at home, I recommend that the Congress adopt:\\n\\n(1) A realistic tax lawâ€”which will tax all unreasonable profits, both individual and corporate, and reduce the ultimate cost of the war to our sons and daughters. The tax bill now under consideration by the Congress does not begin to meet this test.\\n\\n(2) A continuation of the law for the renegotiation of war contractsâ€”which will prevent exorbitant profits and assure fair prices to the Government. For two long years I have pleaded with the Congress to take undue profits out of war.\\n\\n(3) A cost of food lawâ€”which will enable the Government (a) to place a reasonable floor under the prices the farmer may expect for his production; and (b) to place a ceiling on the prices a consumer will have to pay for the food he buys. This should apply to necessities only; and will require public funds to carry out. It will cost in appropriations about one percent of the present annual cost of the war.\\n\\n(4) Early reenactment of. the stabilization statute of October, 1942. This expires June 30, 1944, and if it is not extended well in advance, the country might just as well expect price chaos by summer.')]\n"
     ]
    }
   ],
   "execution_count": 25
  }
 ],
 "metadata": {
  "kernelspec": {
   "display_name": "Python 3",
   "language": "python",
   "name": "python3"
  },
  "language_info": {
   "codemirror_mode": {
    "name": "ipython",
    "version": 2
   },
   "file_extension": ".py",
   "mimetype": "text/x-python",
   "name": "python",
   "nbconvert_exporter": "python",
   "pygments_lexer": "ipython2",
   "version": "2.7.6"
  }
 },
 "nbformat": 4,
 "nbformat_minor": 5
}
