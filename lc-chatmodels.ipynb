{
 "cells": [
  {
   "cell_type": "code",
   "execution_count": null,
   "id": "initial_id",
   "metadata": {
    "collapsed": true
   },
   "outputs": [],
   "source": [
    "from langchain_openai import ChatOpenAI\n",
    "import os\n",
    "from dotenv import load_dotenv\n",
    "from langchain.chat_models import init_chat_model\n",
    "\n",
    "load_dotenv()\n",
    "api_key = os.getenv(\"OPENAI_API_KEY\")\n",
    "chat = ChatOpenAI()\n",
    "llm = init_chat_model(\"gpt-4o-mini\", model_provider=\"openai\")\n",
    "from langchain_core.messages import AIMessage, HumanMessage, SystemMessage\n",
    "\n",
    "result = chat.invoke([HumanMessage(content=\"Tell me a fact about Venus\")])\n",
    "print(result.content)"
   ]
  },
  {
   "metadata": {},
   "cell_type": "code",
   "outputs": [],
   "execution_count": null,
   "source": [
    "result = chat.invoke([\n",
    "    SystemMessage(content=\"You are a very nerdy, middle aged man who only wants to play video games and open Union Arena cards, and not answer trivia questions for me. He flirts with every response and loves witty banter.\"),\n",
    "    HumanMessage(content=\"Tell me a fact about Venus\")])\n",
    "print(result.content)"
   ],
   "id": "57ca19c5be9a1987"
  },
  {
   "metadata": {},
   "cell_type": "code",
   "outputs": [],
   "execution_count": null,
   "source": [
    "result = chat.generate([\n",
    "    [SystemMessage(content=\"You are a flirty man who only answers questions with pick up lines\"),\n",
    "     HumanMessage(content=\"Tell me a fact about baseball\")],\n",
    "    [SystemMessage(content=\"You are strictly informational for educational purposes\"),\n",
    "     HumanMessage(content=\"Tell me a fact about baseball\")]\n",
    "])\n",
    "print(result.generations[0][0].text)\n",
    "print(result.generations[1][0].text)\n",
    "result = chat(\n",
    "    [SystemMessage(content=\"You are super friendly but also informational for educational purposes\"),\n",
    "     HumanMessage(content=\"Tell me a fact about baseball\")], temperature=1, max_tokens=25)\n",
    "result.content"
   ],
   "id": "7e15a13ec7f93ddc"
  },
  {
   "metadata": {},
   "cell_type": "code",
   "outputs": [],
   "execution_count": null,
   "source": [
    "result = chat(\n",
    "    [SystemMessage(content=\"You are super friendly but also informational for educational purposes\"),\n",
    "     HumanMessage(content=\"Tell me a fact about baseball\")], temperature=1, max_tokens=25)\n",
    "result.content"
   ],
   "id": "ee91b7d1bb4cb579"
  },
  {
   "metadata": {},
   "cell_type": "code",
   "outputs": [],
   "execution_count": null,
   "source": [
    "from langchain_core.globals import set_llm_cache\n",
    "from langchain_core.caches import InMemoryCache\n",
    "\n",
    "set_llm_cache(InMemoryCache())\n",
    "\n",
    "# The first time, it is not yet in cache, so it should take longer\n",
    "llm.invoke(\"Tell me a joke\")"
   ],
   "id": "c8f687a4edb3a5f"
  },
  {
   "metadata": {},
   "cell_type": "code",
   "outputs": [],
   "execution_count": null,
   "source": [
    "#exact answer from saved cache\n",
    "llm.invoke(\"Tell me a joke\")"
   ],
   "id": "c6858a4a68450e2c"
  }
 ],
 "metadata": {
  "kernelspec": {
   "display_name": "Python 3",
   "language": "python",
   "name": "python3"
  },
  "language_info": {
   "codemirror_mode": {
    "name": "ipython",
    "version": 2
   },
   "file_extension": ".py",
   "mimetype": "text/x-python",
   "name": "python",
   "nbconvert_exporter": "python",
   "pygments_lexer": "ipython2",
   "version": "2.7.6"
  }
 },
 "nbformat": 4,
 "nbformat_minor": 5
}
